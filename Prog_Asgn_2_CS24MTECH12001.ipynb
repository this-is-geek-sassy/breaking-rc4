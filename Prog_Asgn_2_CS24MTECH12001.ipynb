{
 "cells": [
  {
   "cell_type": "code",
   "execution_count": 86,
   "id": "dd56a179-e658-453f-a103-ed5b519e0671",
   "metadata": {},
   "outputs": [],
   "source": [
    "import ast, secrets\n",
    "import numpy as np\n",
    "import random"
   ]
  },
  {
   "cell_type": "code",
   "execution_count": 6,
   "id": "d56a6856-45fb-4882-8b11-28b81785560e",
   "metadata": {},
   "outputs": [],
   "source": [
    "master_cipher_collection = []"
   ]
  },
  {
   "cell_type": "code",
   "execution_count": 2,
   "id": "ca70f8ad-78b5-458b-bb6f-4f92714710be",
   "metadata": {},
   "outputs": [],
   "source": [
    "file = open(\"./Ciphertexts/ciphertexts_1.txt\", 'r')\n",
    "\n",
    "firstFileCipher = [line[:-1] for line in file.readlines()]"
   ]
  },
  {
   "cell_type": "code",
   "execution_count": 6,
   "id": "956e5929-746c-4ae1-a82d-5a413b9b0840",
   "metadata": {
    "panel-layout": {
     "height": 856,
     "visible": true,
     "width": 100
    }
   },
   "outputs": [
    {
     "data": {
      "text/plain": [
       "4096"
      ]
     },
     "execution_count": 6,
     "metadata": {},
     "output_type": "execute_result"
    }
   ],
   "source": [
    "len(firstFileCipher)"
   ]
  },
  {
   "cell_type": "code",
   "execution_count": 18,
   "id": "27d6f52a-bcf3-4d5b-9058-fdab83c503b0",
   "metadata": {},
   "outputs": [],
   "source": [
    "# import ast\n",
    "\n",
    "for item in firstFileCipher:\n",
    "    master_cipher_collection.append(ast.literal_eval(item))"
   ]
  },
  {
   "cell_type": "code",
   "execution_count": 22,
   "id": "b80fbbab-ff54-4908-b260-ad3d393e0b03",
   "metadata": {
    "panel-layout": {
     "height": 27.15,
     "visible": true,
     "width": 100
    }
   },
   "outputs": [
    {
     "data": {
      "text/plain": [
       "4096"
      ]
     },
     "execution_count": 22,
     "metadata": {},
     "output_type": "execute_result"
    }
   ],
   "source": [
    "len(master_cipher_collection)"
   ]
  },
  {
   "cell_type": "code",
   "execution_count": 8,
   "id": "eb588352-7db3-4d1f-8f08-b46078820a79",
   "metadata": {},
   "outputs": [],
   "source": [
    "for i in range(1,4097):\n",
    "    filename = \"./Ciphertexts/ciphertexts_\" + str(i) + \".txt\"\n",
    "    # print(filename)\n",
    "    file = open(filename, 'r')\n",
    "    # master_cipher_collection.append([ast.literal_eval(line[:-1]) for line in file.readlines()])\n",
    "    for line in file.readlines():\n",
    "        master_cipher_collection.append(ast.literal_eval(line[:-1]))\n",
    "    file.close()"
   ]
  },
  {
   "cell_type": "code",
   "execution_count": 10,
   "id": "cb015873-76b9-4949-a874-e529ade034ed",
   "metadata": {
    "panel-layout": {
     "height": 27.15,
     "visible": true,
     "width": 100
    }
   },
   "outputs": [
    {
     "data": {
      "text/plain": [
       "16777216"
      ]
     },
     "execution_count": 10,
     "metadata": {},
     "output_type": "execute_result"
    }
   ],
   "source": [
    "len(master_cipher_collection)"
   ]
  },
  {
   "cell_type": "code",
   "execution_count": 12,
   "id": "76e65410-d252-45e4-b7a5-1650a573dac2",
   "metadata": {
    "panel-layout": {
     "height": 1662.33,
     "visible": true,
     "width": 100
    }
   },
   "outputs": [],
   "source": [
    "# master_cipher_collection"
   ]
  },
  {
   "cell_type": "code",
   "execution_count": 14,
   "id": "f5821b33-d02c-4222-a291-03b2106bfe2d",
   "metadata": {
    "panel-layout": {
     "height": 27.150009155273438,
     "visible": true,
     "width": 100
    }
   },
   "outputs": [
    {
     "data": {
      "text/plain": [
       "6"
      ]
     },
     "execution_count": 14,
     "metadata": {},
     "output_type": "execute_result"
    }
   ],
   "source": [
    "len(master_cipher_collection[0])"
   ]
  },
  {
   "cell_type": "code",
   "execution_count": 16,
   "id": "740cebfd-4cd5-4a0b-96ea-43493312e048",
   "metadata": {},
   "outputs": [],
   "source": [
    "master_cipher_collection = np.array(master_cipher_collection)"
   ]
  },
  {
   "cell_type": "code",
   "execution_count": 17,
   "id": "25c1e910-c146-4eee-863d-bc3fd20f5123",
   "metadata": {},
   "outputs": [
    {
     "data": {
      "text/plain": [
       "(16777216, 6)"
      ]
     },
     "execution_count": 17,
     "metadata": {},
     "output_type": "execute_result"
    }
   ],
   "source": [
    "master_cipher_collection.shape"
   ]
  },
  {
   "cell_type": "markdown",
   "id": "dd87d291-4315-409e-ad02-bc729967fd38",
   "metadata": {},
   "source": [
    "seed generation:"
   ]
  },
  {
   "cell_type": "code",
   "execution_count": 21,
   "id": "efd2a949-767c-407b-939e-979b717da20d",
   "metadata": {},
   "outputs": [
    {
     "name": "stdout",
     "output_type": "stream",
     "text": [
      "b'\\x94*\\xbepK'\n",
      "The seed is 5 bytes long.\n"
     ]
    }
   ],
   "source": [
    "seed = secrets.token_bytes(5)\n",
    "print(seed)\n",
    "\n",
    "# Verify the length\n",
    "if len(seed) == 5:\n",
    "    print(\"The seed is 5 bytes long.\")\n",
    "else:\n",
    "    print(\"The seed is not 5 bytes long.\")"
   ]
  },
  {
   "cell_type": "code",
   "execution_count": 23,
   "id": "4aed76c1-f329-400d-ab32-83d9ccb9cf3f",
   "metadata": {},
   "outputs": [
    {
     "name": "stdout",
     "output_type": "stream",
     "text": [
      "b'\\x17\\xf6\\x03\\x11\\xa7'\n"
     ]
    }
   ],
   "source": [
    "import os\n",
    "\n",
    "seed = os.urandom(5)\n",
    "print(seed)\n"
   ]
  },
  {
   "cell_type": "code",
   "execution_count": 25,
   "id": "5f2ce9d6-7d35-49e7-87b6-47db2179dc65",
   "metadata": {},
   "outputs": [
    {
     "data": {
      "text/plain": [
       "5"
      ]
     },
     "execution_count": 25,
     "metadata": {},
     "output_type": "execute_result"
    }
   ],
   "source": [
    "len(seed)"
   ]
  },
  {
   "cell_type": "markdown",
   "id": "57d36103-a627-4d64-84e8-ee847af5e0fe",
   "metadata": {},
   "source": [
    "defining rc4:"
   ]
  },
  {
   "cell_type": "code",
   "execution_count": 28,
   "id": "f93e7279-8459-466c-ac7b-db0bc897a2aa",
   "metadata": {},
   "outputs": [
    {
     "name": "stdout",
     "output_type": "stream",
     "text": [
      "5 16777216\n"
     ]
    }
   ],
   "source": [
    "n = 5\n",
    "constant = 2**24\n",
    "print(n, constant)"
   ]
  },
  {
   "cell_type": "code",
   "execution_count": 92,
   "id": "4bf05a49-28b4-41a8-a6f5-74679150e14f",
   "metadata": {},
   "outputs": [],
   "source": [
    "# S = []\n",
    "\n",
    "def swap(S, i, j):\n",
    "    temp = S[i]\n",
    "    S[i] = S[j]\n",
    "    S[j] = temp\n",
    "\n",
    "def Key_Scheduling_Algorithim(seed):\n",
    "    S = []\n",
    "    for i in range(0,2**n):\n",
    "        S.append(i)\n",
    "    # print(S)\n",
    "    j = 0\n",
    "    l = 5   # len(seed)\n",
    "    for i in range(0,2**n):\n",
    "        j = (j + S[i] + seed[i%l]) % (2**n)\n",
    "        swap(S, i, j)\n",
    "    return S\n",
    "\n",
    "def Pseudeo_Random_Generation(S, passcode_length):\n",
    "    i = 0\n",
    "    j = 0\n",
    "    keystream = [0 for i in range(0,passcode_length)]   # defining a keystream list of length m\n",
    "\n",
    "    for t in range(0,passcode_length):\n",
    "        i = (i+1) % (2**n)\n",
    "        j = (j + S[i]) % (2**n)\n",
    "        swap(S, i, j)\n",
    "        keystream[t] = S[(S[i] + S[j]) % (2**n)]\n",
    "\n",
    "    return keystream\n",
    "        \n",
    "# S"
   ]
  },
  {
   "cell_type": "code",
   "execution_count": 44,
   "id": "58b9923c-b12a-459b-9218-a554a5c20c35",
   "metadata": {},
   "outputs": [],
   "source": [
    "# S = []\n",
    "S = Key_Scheduling_Algorithim(seed)"
   ]
  },
  {
   "cell_type": "code",
   "execution_count": 46,
   "id": "08839acd-58f7-464a-9016-e61676d7ff36",
   "metadata": {},
   "outputs": [
    {
     "name": "stdout",
     "output_type": "stream",
     "text": [
      "[23, 6, 2, 13, 3, 12, 10, 25, 9, 24, 21, 31, 1, 4, 15, 22, 18, 8, 7, 0, 28, 29, 30, 11, 5, 27, 17, 16, 14, 20, 19, 26]\n"
     ]
    }
   ],
   "source": [
    "print(S)"
   ]
  },
  {
   "cell_type": "code",
   "execution_count": 48,
   "id": "7ceb60f3-2e80-4278-8d4a-2914dea12de3",
   "metadata": {},
   "outputs": [
    {
     "data": {
      "text/plain": [
       "[18, 31, 21, 2, 8, 16]"
      ]
     },
     "execution_count": 48,
     "metadata": {},
     "output_type": "execute_result"
    }
   ],
   "source": [
    "Pseudeo_Random_Generation(S, 6)"
   ]
  },
  {
   "cell_type": "code",
   "execution_count": 50,
   "id": "7f864f0a-c349-4801-b1cf-c2ad5b15af7e",
   "metadata": {},
   "outputs": [],
   "source": [
    "keystream = [0 for i in range(0,6)]"
   ]
  },
  {
   "cell_type": "code",
   "execution_count": 52,
   "id": "8a859beb-da21-4d5d-aea2-5723c12fb875",
   "metadata": {},
   "outputs": [
    {
     "data": {
      "text/plain": [
       "[0, 0, 0, 0, 0, 0]"
      ]
     },
     "execution_count": 52,
     "metadata": {},
     "output_type": "execute_result"
    }
   ],
   "source": [
    "keystream"
   ]
  },
  {
   "cell_type": "code",
   "execution_count": 102,
   "id": "1a441a21-dc89-4150-becd-683242e6900c",
   "metadata": {},
   "outputs": [],
   "source": [
    "# total_keystream_collection = []\n",
    "\n",
    "\n",
    "def all_keystream_generation():\n",
    "    total_keystream_collection = []\n",
    "    m = 6  #hardcoding 6 bytes\n",
    "    number_of_keys = 2**24\n",
    "\n",
    "    for i in range(0,number_of_keys):\n",
    "        seed = [random.randint(0, 2**5 - 1) for i in range(5)]\n",
    "        Key_Scheduling_Algorithim(seed)\n",
    "        keystream = Pseudeo_Random_Generation(S, m)\n",
    "        total_keystream_collection.append(keystream)\n",
    "    return total_keystream_collection"
   ]
  },
  {
   "cell_type": "code",
   "execution_count": 104,
   "id": "5a5f73ac-a58e-4bb6-914e-dc8f635d1ba4",
   "metadata": {},
   "outputs": [],
   "source": [
    "total_keystream_collection = all_keystream_generation()"
   ]
  },
  {
   "cell_type": "code",
   "execution_count": 106,
   "id": "8b8ebe89-527b-4f64-850f-ec106f428c19",
   "metadata": {},
   "outputs": [
    {
     "data": {
      "text/plain": [
       "16777216"
      ]
     },
     "execution_count": 106,
     "metadata": {},
     "output_type": "execute_result"
    }
   ],
   "source": [
    "len(total_keystream_collection)"
   ]
  },
  {
   "cell_type": "code",
   "execution_count": 108,
   "id": "00a86541-e85a-42f5-acd4-3a072fdaa738",
   "metadata": {},
   "outputs": [],
   "source": [
    "# total_keystream_collection"
   ]
  },
  {
   "cell_type": "code",
   "execution_count": 110,
   "id": "b2a1ec1b-6b84-4fad-a393-b75ec5b601b9",
   "metadata": {},
   "outputs": [],
   "source": [
    "keystream_dist = [[] for i in range(6)]"
   ]
  },
  {
   "cell_type": "code",
   "execution_count": 112,
   "id": "85094317-bf98-4299-9db5-385e2ef09069",
   "metadata": {},
   "outputs": [
    {
     "data": {
      "text/plain": [
       "[[], [], [], [], [], []]"
      ]
     },
     "execution_count": 112,
     "metadata": {},
     "output_type": "execute_result"
    }
   ],
   "source": [
    "keystream_dist"
   ]
  },
  {
   "cell_type": "code",
   "execution_count": 114,
   "id": "4af567b6-17e1-48a4-b443-1ebf0708877a",
   "metadata": {},
   "outputs": [],
   "source": [
    "for i in range(0,6):\n",
    "    keystream_dist[i] = [0 for j in range(32)]"
   ]
  },
  {
   "cell_type": "code",
   "execution_count": 116,
   "id": "f709226b-de19-439c-b140-4511907f5d69",
   "metadata": {},
   "outputs": [
    {
     "data": {
      "text/plain": [
       "[0, 0, 0, 0, 0, 0]"
      ]
     },
     "execution_count": 116,
     "metadata": {},
     "output_type": "execute_result"
    }
   ],
   "source": [
    "keystream"
   ]
  },
  {
   "cell_type": "code",
   "execution_count": 118,
   "id": "22a1cb51-ab96-4f07-8388-cdc4e42dcf3c",
   "metadata": {
    "scrolled": true
   },
   "outputs": [
    {
     "data": {
      "text/plain": [
       "array([[0., 0., 0., 0., 0., 0., 0., 0., 0., 0., 0., 0., 0., 0., 0., 0.,\n",
       "        0., 0., 0., 0., 0., 0., 0., 0., 0., 0., 0., 0., 0., 0., 0., 0.],\n",
       "       [0., 0., 0., 0., 0., 0., 0., 0., 0., 0., 0., 0., 0., 0., 0., 0.,\n",
       "        0., 0., 0., 0., 0., 0., 0., 0., 0., 0., 0., 0., 0., 0., 0., 0.],\n",
       "       [0., 0., 0., 0., 0., 0., 0., 0., 0., 0., 0., 0., 0., 0., 0., 0.,\n",
       "        0., 0., 0., 0., 0., 0., 0., 0., 0., 0., 0., 0., 0., 0., 0., 0.],\n",
       "       [0., 0., 0., 0., 0., 0., 0., 0., 0., 0., 0., 0., 0., 0., 0., 0.,\n",
       "        0., 0., 0., 0., 0., 0., 0., 0., 0., 0., 0., 0., 0., 0., 0., 0.],\n",
       "       [0., 0., 0., 0., 0., 0., 0., 0., 0., 0., 0., 0., 0., 0., 0., 0.,\n",
       "        0., 0., 0., 0., 0., 0., 0., 0., 0., 0., 0., 0., 0., 0., 0., 0.],\n",
       "       [0., 0., 0., 0., 0., 0., 0., 0., 0., 0., 0., 0., 0., 0., 0., 0.,\n",
       "        0., 0., 0., 0., 0., 0., 0., 0., 0., 0., 0., 0., 0., 0., 0., 0.]])"
      ]
     },
     "execution_count": 118,
     "metadata": {},
     "output_type": "execute_result"
    }
   ],
   "source": [
    "import numpy as np\n",
    "keystream_dist = [[0 for j in range(32)] for i in range(6)]\n",
    "ksd_matrix = np.array(keystream_dist, dtype=float)\n",
    "ksd_matrix"
   ]
  },
  {
   "cell_type": "code",
   "execution_count": 120,
   "id": "daa7ce0c-9a9a-4788-8b0c-4ca1e219f884",
   "metadata": {
    "scrolled": true
   },
   "outputs": [
    {
     "name": "stdout",
     "output_type": "stream",
     "text": [
      "[[0. 0. 0. 0. 0. 0. 0. 0. 0. 0. 0. 0. 0. 0. 0. 0. 0. 0. 0. 0. 0. 0. 0. 0.\n",
      "  0. 0. 0. 0. 0. 0. 0. 0.]\n",
      " [0. 0. 0. 0. 0. 0. 0. 0. 0. 0. 0. 0. 0. 0. 0. 0. 0. 0. 0. 0. 0. 0. 0. 0.\n",
      "  0. 0. 0. 0. 0. 0. 0. 0.]\n",
      " [0. 0. 0. 0. 0. 0. 0. 0. 0. 0. 0. 0. 0. 0. 0. 0. 0. 0. 0. 0. 0. 0. 0. 0.\n",
      "  0. 0. 0. 0. 0. 0. 0. 0.]\n",
      " [0. 0. 0. 0. 0. 0. 0. 0. 0. 0. 0. 0. 0. 0. 0. 0. 0. 0. 0. 0. 0. 0. 0. 0.\n",
      "  0. 0. 0. 0. 0. 0. 0. 0.]\n",
      " [0. 0. 0. 0. 0. 0. 0. 0. 0. 0. 0. 0. 0. 0. 0. 0. 0. 0. 0. 0. 0. 0. 0. 0.\n",
      "  0. 0. 0. 0. 0. 0. 0. 0.]\n",
      " [0. 0. 0. 0. 0. 0. 0. 0. 0. 0. 0. 0. 0. 0. 0. 0. 0. 0. 0. 0. 0. 0. 0. 0.\n",
      "  0. 0. 0. 0. 0. 0. 0. 0.]]\n"
     ]
    }
   ],
   "source": [
    "print(ksd_matrix)"
   ]
  },
  {
   "cell_type": "code",
   "execution_count": 122,
   "id": "ff85a5af-dab3-4ac1-a690-66904c48f8c7",
   "metadata": {},
   "outputs": [],
   "source": [
    "for i in range(6):\n",
    "    for k in range(2**24):\n",
    "        ksd_matrix[i][total_keystream_collection[k][i]] += 1\n",
    "        keystream_dist[i][total_keystream_collection[k][i]] += 1"
   ]
  },
  {
   "cell_type": "code",
   "execution_count": 124,
   "id": "feaf94fc-9d87-4c79-8c72-3a015a1d3f5b",
   "metadata": {},
   "outputs": [],
   "source": [
    "# ksd_matrix"
   ]
  },
  {
   "cell_type": "code",
   "execution_count": 126,
   "id": "85987581-07b0-4516-be9d-957a557b0d76",
   "metadata": {},
   "outputs": [],
   "source": [
    "# keystream_dist"
   ]
  },
  {
   "cell_type": "code",
   "execution_count": 128,
   "id": "08477051-513e-4381-9a50-c3712dd62141",
   "metadata": {},
   "outputs": [
    {
     "data": {
      "text/plain": [
       "16777216"
      ]
     },
     "execution_count": 128,
     "metadata": {},
     "output_type": "execute_result"
    }
   ],
   "source": [
    "constant"
   ]
  },
  {
   "cell_type": "code",
   "execution_count": 130,
   "id": "bc41ee53-fdb8-4ae9-b14b-2b8be290fc2d",
   "metadata": {},
   "outputs": [],
   "source": [
    "for i in range(6):\n",
    "    for j in range(32):\n",
    "        ksd_matrix[i][j] /= constant\n",
    "        keystream_dist[i][j] /= constant"
   ]
  },
  {
   "cell_type": "code",
   "execution_count": 132,
   "id": "4f93f7d0-aa50-4fd3-a38b-a4d2fffe6508",
   "metadata": {
    "scrolled": true
   },
   "outputs": [
    {
     "data": {
      "text/plain": [
       "array([[0.03191406, 0.02381861, 0.03244287, 0.03212023, 0.03220111,\n",
       "        0.03221875, 0.03123415, 0.03099561, 0.03080648, 0.0312162 ,\n",
       "        0.03084677, 0.03108031, 0.03093076, 0.03137565, 0.03106147,\n",
       "        0.03129125, 0.03182054, 0.03127664, 0.03110301, 0.03142095,\n",
       "        0.03103721, 0.03133768, 0.03116763, 0.03131181, 0.03106016,\n",
       "        0.03131586, 0.03108114, 0.03164673, 0.03156906, 0.03205031,\n",
       "        0.03199691, 0.03325009],\n",
       "       [0.06493628, 0.02953005, 0.02827525, 0.03011107, 0.03009075,\n",
       "        0.03019452, 0.03007638, 0.03020799, 0.03022748, 0.0302164 ,\n",
       "        0.03017145, 0.030213  , 0.03079367, 0.03033948, 0.03022391,\n",
       "        0.0304361 , 0.03018808, 0.02916014, 0.03005707, 0.03029728,\n",
       "        0.03009731, 0.03024775, 0.03019226, 0.03035218, 0.03033823,\n",
       "        0.03043568, 0.03033841, 0.03033108, 0.03024817, 0.03040856,\n",
       "        0.03085148, 0.03041255],\n",
       "       [0.03106695, 0.03192508, 0.0309602 , 0.03181422, 0.03125352,\n",
       "        0.03120935, 0.03117865, 0.03111714, 0.03112119, 0.03121322,\n",
       "        0.03116632, 0.03121871, 0.03119177, 0.03116816, 0.03121269,\n",
       "        0.03119653, 0.03142232, 0.03102887, 0.03145379, 0.03188562,\n",
       "        0.03125501, 0.03118509, 0.03126484, 0.03119588, 0.0312255 ,\n",
       "        0.03114128, 0.031335  , 0.03109813, 0.03120071, 0.03112435,\n",
       "        0.03125864, 0.03091127],\n",
       "       [0.03206313, 0.03199899, 0.03164816, 0.03104013, 0.03227019,\n",
       "        0.03107637, 0.03112763, 0.03110617, 0.03111017, 0.03122818,\n",
       "        0.0311628 , 0.0311566 , 0.03114921, 0.03114653, 0.03115249,\n",
       "        0.03121865, 0.03122681, 0.03113365, 0.03111136, 0.03128231,\n",
       "        0.0310294 , 0.03125745, 0.03120685, 0.03114772, 0.03101099,\n",
       "        0.0312531 , 0.0311594 , 0.03127211, 0.03114808, 0.03100383,\n",
       "        0.03095967, 0.03114188],\n",
       "       [0.03196734, 0.03211355, 0.03064561, 0.03153753, 0.03129202,\n",
       "        0.03192025, 0.03101164, 0.03124064, 0.0312354 , 0.03117216,\n",
       "        0.03122079, 0.03118747, 0.0311861 , 0.03114897, 0.03103286,\n",
       "        0.03112203, 0.03121746, 0.03115487, 0.03109521, 0.0313521 ,\n",
       "        0.03131473, 0.03099865, 0.03132904, 0.03112501, 0.03124011,\n",
       "        0.03106773, 0.03123844, 0.03122294, 0.03118676, 0.03114796,\n",
       "        0.03116846, 0.03110617],\n",
       "       [0.03197718, 0.03219587, 0.03080225, 0.03101593, 0.03144491,\n",
       "        0.0311811 , 0.03189576, 0.03117675, 0.03123212, 0.03114891,\n",
       "        0.03120416, 0.03123379, 0.03117752, 0.03123063, 0.03113228,\n",
       "        0.03120232, 0.03113616, 0.0311563 , 0.03117049, 0.03119153,\n",
       "        0.03121042, 0.03121567, 0.03101099, 0.03122735, 0.03112435,\n",
       "        0.03120589, 0.03118813, 0.03119689, 0.03113908, 0.03115612,\n",
       "        0.03123009, 0.03118908]])"
      ]
     },
     "execution_count": 132,
     "metadata": {},
     "output_type": "execute_result"
    }
   ],
   "source": [
    "ksd_matrix"
   ]
  },
  {
   "cell_type": "code",
   "execution_count": 134,
   "id": "cf64167f-ae70-4c17-ba33-6b20bf387a85",
   "metadata": {},
   "outputs": [],
   "source": [
    "# master_cipher_collection = np.array(master_cipher_collection)"
   ]
  },
  {
   "cell_type": "code",
   "execution_count": 136,
   "id": "d2755910-a3eb-4a8d-a84b-0fc83b3b9eb6",
   "metadata": {},
   "outputs": [],
   "source": [
    "cand_keystream = np.zeros((6,10,constant), dtype=int)"
   ]
  },
  {
   "cell_type": "code",
   "execution_count": 138,
   "id": "7afc8671-60e8-400b-918d-0f182ec5286f",
   "metadata": {
    "scrolled": true
   },
   "outputs": [
    {
     "data": {
      "text/plain": [
       "array([[[0, 0, 0, ..., 0, 0, 0],\n",
       "        [0, 0, 0, ..., 0, 0, 0],\n",
       "        [0, 0, 0, ..., 0, 0, 0],\n",
       "        ...,\n",
       "        [0, 0, 0, ..., 0, 0, 0],\n",
       "        [0, 0, 0, ..., 0, 0, 0],\n",
       "        [0, 0, 0, ..., 0, 0, 0]],\n",
       "\n",
       "       [[0, 0, 0, ..., 0, 0, 0],\n",
       "        [0, 0, 0, ..., 0, 0, 0],\n",
       "        [0, 0, 0, ..., 0, 0, 0],\n",
       "        ...,\n",
       "        [0, 0, 0, ..., 0, 0, 0],\n",
       "        [0, 0, 0, ..., 0, 0, 0],\n",
       "        [0, 0, 0, ..., 0, 0, 0]],\n",
       "\n",
       "       [[0, 0, 0, ..., 0, 0, 0],\n",
       "        [0, 0, 0, ..., 0, 0, 0],\n",
       "        [0, 0, 0, ..., 0, 0, 0],\n",
       "        ...,\n",
       "        [0, 0, 0, ..., 0, 0, 0],\n",
       "        [0, 0, 0, ..., 0, 0, 0],\n",
       "        [0, 0, 0, ..., 0, 0, 0]],\n",
       "\n",
       "       [[0, 0, 0, ..., 0, 0, 0],\n",
       "        [0, 0, 0, ..., 0, 0, 0],\n",
       "        [0, 0, 0, ..., 0, 0, 0],\n",
       "        ...,\n",
       "        [0, 0, 0, ..., 0, 0, 0],\n",
       "        [0, 0, 0, ..., 0, 0, 0],\n",
       "        [0, 0, 0, ..., 0, 0, 0]],\n",
       "\n",
       "       [[0, 0, 0, ..., 0, 0, 0],\n",
       "        [0, 0, 0, ..., 0, 0, 0],\n",
       "        [0, 0, 0, ..., 0, 0, 0],\n",
       "        ...,\n",
       "        [0, 0, 0, ..., 0, 0, 0],\n",
       "        [0, 0, 0, ..., 0, 0, 0],\n",
       "        [0, 0, 0, ..., 0, 0, 0]],\n",
       "\n",
       "       [[0, 0, 0, ..., 0, 0, 0],\n",
       "        [0, 0, 0, ..., 0, 0, 0],\n",
       "        [0, 0, 0, ..., 0, 0, 0],\n",
       "        ...,\n",
       "        [0, 0, 0, ..., 0, 0, 0],\n",
       "        [0, 0, 0, ..., 0, 0, 0],\n",
       "        [0, 0, 0, ..., 0, 0, 0]]])"
      ]
     },
     "execution_count": 138,
     "metadata": {},
     "output_type": "execute_result"
    }
   ],
   "source": [
    "cand_keystream"
   ]
  },
  {
   "cell_type": "code",
   "execution_count": 140,
   "id": "3e24fc09-72bf-4752-89dc-595e51fdf6b7",
   "metadata": {},
   "outputs": [
    {
     "data": {
      "text/plain": [
       "dtype('int64')"
      ]
     },
     "execution_count": 140,
     "metadata": {},
     "output_type": "execute_result"
    }
   ],
   "source": [
    "master_cipher_collection.dtype"
   ]
  },
  {
   "cell_type": "code",
   "execution_count": 142,
   "id": "81346c82-ef98-4b67-8d66-653ae8460931",
   "metadata": {},
   "outputs": [
    {
     "data": {
      "text/plain": [
       "dtype('int64')"
      ]
     },
     "execution_count": 142,
     "metadata": {},
     "output_type": "execute_result"
    }
   ],
   "source": [
    "cand_keystream.dtype"
   ]
  },
  {
   "cell_type": "code",
   "execution_count": 144,
   "id": "39f7d3d2-aa4e-4e8a-a390-02e87df54faa",
   "metadata": {},
   "outputs": [
    {
     "data": {
      "text/plain": [
       "(16777216, 6)"
      ]
     },
     "execution_count": 144,
     "metadata": {},
     "output_type": "execute_result"
    }
   ],
   "source": [
    "master_cipher_collection.shape"
   ]
  },
  {
   "cell_type": "code",
   "execution_count": 146,
   "id": "82853f85-1d90-4b60-b2b8-c3dbdf1afc20",
   "metadata": {},
   "outputs": [],
   "source": [
    "def _xor(a, b):\n",
    "    return a^b"
   ]
  },
  {
   "cell_type": "code",
   "execution_count": 148,
   "id": "e84f0939-a35c-4fff-95ca-af787846e9cc",
   "metadata": {},
   "outputs": [
    {
     "ename": "KeyboardInterrupt",
     "evalue": "",
     "output_type": "error",
     "traceback": [
      "\u001b[0;31m---------------------------------------------------------------------------\u001b[0m",
      "\u001b[0;31mKeyboardInterrupt\u001b[0m                         Traceback (most recent call last)",
      "Cell \u001b[0;32mIn[148], line 4\u001b[0m\n\u001b[1;32m      2\u001b[0m \u001b[38;5;28;01mfor\u001b[39;00m i \u001b[38;5;129;01min\u001b[39;00m \u001b[38;5;28mrange\u001b[39m(\u001b[38;5;241m10\u001b[39m):\n\u001b[1;32m      3\u001b[0m     \u001b[38;5;28;01mfor\u001b[39;00m j \u001b[38;5;129;01min\u001b[39;00m \u001b[38;5;28mrange\u001b[39m(constant):\n\u001b[0;32m----> 4\u001b[0m         cand_keystream[\u001b[38;5;241m0\u001b[39m][i][j] \u001b[38;5;241m=\u001b[39m _xor((i\u001b[38;5;241m+\u001b[39m\u001b[38;5;241m48\u001b[39m), master_cipher_collection[j][\u001b[38;5;241m0\u001b[39m])\n",
      "Cell \u001b[0;32mIn[146], line 1\u001b[0m, in \u001b[0;36m_xor\u001b[0;34m(a, b)\u001b[0m\n\u001b[0;32m----> 1\u001b[0m \u001b[38;5;28;01mdef\u001b[39;00m \u001b[38;5;21m_xor\u001b[39m(a, b):\n\u001b[1;32m      2\u001b[0m     \u001b[38;5;28;01mreturn\u001b[39;00m a\u001b[38;5;241m^\u001b[39mb\n",
      "\u001b[0;31mKeyboardInterrupt\u001b[0m: "
     ]
    }
   ],
   "source": [
    "# first byte only:\n",
    "for i in range(10):\n",
    "    for j in range(constant):\n",
    "        cand_keystream[0][i][j] = _xor((i+48), master_cipher_collection[j][0])"
   ]
  },
  {
   "cell_type": "code",
   "execution_count": 150,
   "id": "feda3230-dff5-4aa9-aaf0-a747b964f5d1",
   "metadata": {},
   "outputs": [],
   "source": [
    "cand_keystream = np.zeros((6,10,constant), dtype=int)\n",
    "\n",
    "# an all bytes attempt:\n",
    "for k in range(6):\n",
    "    for i in range(10):\n",
    "        for j in range(constant):\n",
    "            cand_keystream[k][i][j] = _xor((i+48), master_cipher_collection[j][k])"
   ]
  },
  {
   "cell_type": "code",
   "execution_count": 152,
   "id": "985cd89b-72b0-4448-bd09-5511c5deeb8d",
   "metadata": {
    "scrolled": true
   },
   "outputs": [
    {
     "data": {
      "text/plain": [
       "array([[12, 24,  7, ..., 10, 26,  9],\n",
       "       [13, 25,  6, ..., 11, 27,  8],\n",
       "       [14, 26,  5, ...,  8, 24, 11],\n",
       "       ...,\n",
       "       [11, 31,  0, ..., 13, 29, 14],\n",
       "       [ 4, 16, 15, ...,  2, 18,  1],\n",
       "       [ 5, 17, 14, ...,  3, 19,  0]])"
      ]
     },
     "execution_count": 152,
     "metadata": {},
     "output_type": "execute_result"
    }
   ],
   "source": [
    "cand_keystream[0]"
   ]
  },
  {
   "cell_type": "code",
   "execution_count": 154,
   "id": "24c6e8d7-cf35-4815-92df-bad58ea07f8e",
   "metadata": {},
   "outputs": [],
   "source": [
    "cand_keystream_distribution = np.zeros((6,10,32), dtype=float)\n",
    "\n",
    "for i in range(6):\n",
    "    for j in range(10):\n",
    "        for t in range(constant):\n",
    "            determinator_index = cand_keystream[i][j][t]\n",
    "            cand_keystream_distribution[i][j][determinator_index] += 1\n",
    "            # cand_keystream_distribution[i][j][determinator_index] /= constant"
   ]
  },
  {
   "cell_type": "code",
   "execution_count": 155,
   "id": "5c3829c8-afc9-4c6c-8a6d-61efbfb27e42",
   "metadata": {
    "scrolled": true
   },
   "outputs": [
    {
     "data": {
      "text/plain": [
       "array([[ 504052.,  502431.,  502427.,  498250.,  499588.,  471113.,\n",
       "         493152., 1046021.,  507886.,  505472.,  507168.,  523183.,\n",
       "         506829.,  502860.,  503536.,  503810.,  514409.,  512012.,\n",
       "         512999.,  508869.,  511224.,  509449.,  492223.,  508304.,\n",
       "         518874.,  517253.,  517975.,  515835.,  515516.,  517884.,\n",
       "         514545.,  512067.],\n",
       "       [ 502431.,  504052.,  498250.,  502427.,  471113.,  499588.,\n",
       "        1046021.,  493152.,  505472.,  507886.,  523183.,  507168.,\n",
       "         502860.,  506829.,  503810.,  503536.,  512012.,  514409.,\n",
       "         508869.,  512999.,  509449.,  511224.,  508304.,  492223.,\n",
       "         517253.,  518874.,  515835.,  517975.,  517884.,  515516.,\n",
       "         512067.,  514545.],\n",
       "       [ 502427.,  498250.,  504052.,  502431.,  493152., 1046021.,\n",
       "         499588.,  471113.,  507168.,  523183.,  507886.,  505472.,\n",
       "         503536.,  503810.,  506829.,  502860.,  512999.,  508869.,\n",
       "         514409.,  512012.,  492223.,  508304.,  511224.,  509449.,\n",
       "         517975.,  515835.,  518874.,  517253.,  514545.,  512067.,\n",
       "         515516.,  517884.],\n",
       "       [ 498250.,  502427.,  502431.,  504052., 1046021.,  493152.,\n",
       "         471113.,  499588.,  523183.,  507168.,  505472.,  507886.,\n",
       "         503810.,  503536.,  502860.,  506829.,  508869.,  512999.,\n",
       "         512012.,  514409.,  508304.,  492223.,  509449.,  511224.,\n",
       "         515835.,  517975.,  517253.,  518874.,  512067.,  514545.,\n",
       "         517884.,  515516.],\n",
       "       [ 499588.,  471113.,  493152., 1046021.,  504052.,  502431.,\n",
       "         502427.,  498250.,  506829.,  502860.,  503536.,  503810.,\n",
       "         507886.,  505472.,  507168.,  523183.,  511224.,  509449.,\n",
       "         492223.,  508304.,  514409.,  512012.,  512999.,  508869.,\n",
       "         515516.,  517884.,  514545.,  512067.,  518874.,  517253.,\n",
       "         517975.,  515835.],\n",
       "       [ 471113.,  499588., 1046021.,  493152.,  502431.,  504052.,\n",
       "         498250.,  502427.,  502860.,  506829.,  503810.,  503536.,\n",
       "         505472.,  507886.,  523183.,  507168.,  509449.,  511224.,\n",
       "         508304.,  492223.,  512012.,  514409.,  508869.,  512999.,\n",
       "         517884.,  515516.,  512067.,  514545.,  517253.,  518874.,\n",
       "         515835.,  517975.],\n",
       "       [ 493152., 1046021.,  499588.,  471113.,  502427.,  498250.,\n",
       "         504052.,  502431.,  503536.,  503810.,  506829.,  502860.,\n",
       "         507168.,  523183.,  507886.,  505472.,  492223.,  508304.,\n",
       "         511224.,  509449.,  512999.,  508869.,  514409.,  512012.,\n",
       "         514545.,  512067.,  515516.,  517884.,  517975.,  515835.,\n",
       "         518874.,  517253.],\n",
       "       [1046021.,  493152.,  471113.,  499588.,  498250.,  502427.,\n",
       "         502431.,  504052.,  503810.,  503536.,  502860.,  506829.,\n",
       "         523183.,  507168.,  505472.,  507886.,  508304.,  492223.,\n",
       "         509449.,  511224.,  508869.,  512999.,  512012.,  514409.,\n",
       "         512067.,  514545.,  517884.,  515516.,  515835.,  517975.,\n",
       "         517253.,  518874.],\n",
       "       [ 507886.,  505472.,  507168.,  523183.,  506829.,  502860.,\n",
       "         503536.,  503810.,  504052.,  502431.,  502427.,  498250.,\n",
       "         499588.,  471113.,  493152., 1046021.,  518874.,  517253.,\n",
       "         517975.,  515835.,  515516.,  517884.,  514545.,  512067.,\n",
       "         514409.,  512012.,  512999.,  508869.,  511224.,  509449.,\n",
       "         492223.,  508304.],\n",
       "       [ 505472.,  507886.,  523183.,  507168.,  502860.,  506829.,\n",
       "         503810.,  503536.,  502431.,  504052.,  498250.,  502427.,\n",
       "         471113.,  499588., 1046021.,  493152.,  517253.,  518874.,\n",
       "         515835.,  517975.,  517884.,  515516.,  512067.,  514545.,\n",
       "         512012.,  514409.,  508869.,  512999.,  509449.,  511224.,\n",
       "         508304.,  492223.]])"
      ]
     },
     "execution_count": 155,
     "metadata": {},
     "output_type": "execute_result"
    }
   ],
   "source": [
    "cand_keystream_distribution[1]"
   ]
  },
  {
   "cell_type": "code",
   "execution_count": 158,
   "id": "726e3886-7725-44df-be0f-9e3cdd77e9b2",
   "metadata": {},
   "outputs": [],
   "source": [
    "for i in range(6):\n",
    "    for j in range(10):\n",
    "        for t in range(32):\n",
    "            # determinator_index = cand_keystream[i][j][t]\n",
    "            # cand_keystream_distribution[i][j][determinator_index] += 1\n",
    "            cand_keystream_distribution[i][j][t] /= constant"
   ]
  },
  {
   "cell_type": "code",
   "execution_count": 160,
   "id": "d30855fc-216b-4301-9bfc-1d14333360ca",
   "metadata": {
    "scrolled": true
   },
   "outputs": [
    {
     "data": {
      "text/plain": [
       "array([[0.03004384, 0.02994722, 0.02994698, 0.02969801, 0.02977777,\n",
       "        0.02808052, 0.02939415, 0.06234771, 0.03027236, 0.03012848,\n",
       "        0.03022957, 0.03118414, 0.03020936, 0.02997279, 0.03001308,\n",
       "        0.03002942, 0.03066117, 0.03051829, 0.03057712, 0.03033096,\n",
       "        0.03047132, 0.03036553, 0.02933878, 0.03029728, 0.0309273 ,\n",
       "        0.03083068, 0.03087372, 0.03074616, 0.03072715, 0.03086829,\n",
       "        0.03066927, 0.03052157],\n",
       "       [0.02994722, 0.03004384, 0.02969801, 0.02994698, 0.02808052,\n",
       "        0.02977777, 0.06234771, 0.02939415, 0.03012848, 0.03027236,\n",
       "        0.03118414, 0.03022957, 0.02997279, 0.03020936, 0.03002942,\n",
       "        0.03001308, 0.03051829, 0.03066117, 0.03033096, 0.03057712,\n",
       "        0.03036553, 0.03047132, 0.03029728, 0.02933878, 0.03083068,\n",
       "        0.0309273 , 0.03074616, 0.03087372, 0.03086829, 0.03072715,\n",
       "        0.03052157, 0.03066927],\n",
       "       [0.02994698, 0.02969801, 0.03004384, 0.02994722, 0.02939415,\n",
       "        0.06234771, 0.02977777, 0.02808052, 0.03022957, 0.03118414,\n",
       "        0.03027236, 0.03012848, 0.03001308, 0.03002942, 0.03020936,\n",
       "        0.02997279, 0.03057712, 0.03033096, 0.03066117, 0.03051829,\n",
       "        0.02933878, 0.03029728, 0.03047132, 0.03036553, 0.03087372,\n",
       "        0.03074616, 0.0309273 , 0.03083068, 0.03066927, 0.03052157,\n",
       "        0.03072715, 0.03086829],\n",
       "       [0.02969801, 0.02994698, 0.02994722, 0.03004384, 0.06234771,\n",
       "        0.02939415, 0.02808052, 0.02977777, 0.03118414, 0.03022957,\n",
       "        0.03012848, 0.03027236, 0.03002942, 0.03001308, 0.02997279,\n",
       "        0.03020936, 0.03033096, 0.03057712, 0.03051829, 0.03066117,\n",
       "        0.03029728, 0.02933878, 0.03036553, 0.03047132, 0.03074616,\n",
       "        0.03087372, 0.03083068, 0.0309273 , 0.03052157, 0.03066927,\n",
       "        0.03086829, 0.03072715],\n",
       "       [0.02977777, 0.02808052, 0.02939415, 0.06234771, 0.03004384,\n",
       "        0.02994722, 0.02994698, 0.02969801, 0.03020936, 0.02997279,\n",
       "        0.03001308, 0.03002942, 0.03027236, 0.03012848, 0.03022957,\n",
       "        0.03118414, 0.03047132, 0.03036553, 0.02933878, 0.03029728,\n",
       "        0.03066117, 0.03051829, 0.03057712, 0.03033096, 0.03072715,\n",
       "        0.03086829, 0.03066927, 0.03052157, 0.0309273 , 0.03083068,\n",
       "        0.03087372, 0.03074616],\n",
       "       [0.02808052, 0.02977777, 0.06234771, 0.02939415, 0.02994722,\n",
       "        0.03004384, 0.02969801, 0.02994698, 0.02997279, 0.03020936,\n",
       "        0.03002942, 0.03001308, 0.03012848, 0.03027236, 0.03118414,\n",
       "        0.03022957, 0.03036553, 0.03047132, 0.03029728, 0.02933878,\n",
       "        0.03051829, 0.03066117, 0.03033096, 0.03057712, 0.03086829,\n",
       "        0.03072715, 0.03052157, 0.03066927, 0.03083068, 0.0309273 ,\n",
       "        0.03074616, 0.03087372],\n",
       "       [0.02939415, 0.06234771, 0.02977777, 0.02808052, 0.02994698,\n",
       "        0.02969801, 0.03004384, 0.02994722, 0.03001308, 0.03002942,\n",
       "        0.03020936, 0.02997279, 0.03022957, 0.03118414, 0.03027236,\n",
       "        0.03012848, 0.02933878, 0.03029728, 0.03047132, 0.03036553,\n",
       "        0.03057712, 0.03033096, 0.03066117, 0.03051829, 0.03066927,\n",
       "        0.03052157, 0.03072715, 0.03086829, 0.03087372, 0.03074616,\n",
       "        0.0309273 , 0.03083068],\n",
       "       [0.06234771, 0.02939415, 0.02808052, 0.02977777, 0.02969801,\n",
       "        0.02994698, 0.02994722, 0.03004384, 0.03002942, 0.03001308,\n",
       "        0.02997279, 0.03020936, 0.03118414, 0.03022957, 0.03012848,\n",
       "        0.03027236, 0.03029728, 0.02933878, 0.03036553, 0.03047132,\n",
       "        0.03033096, 0.03057712, 0.03051829, 0.03066117, 0.03052157,\n",
       "        0.03066927, 0.03086829, 0.03072715, 0.03074616, 0.03087372,\n",
       "        0.03083068, 0.0309273 ],\n",
       "       [0.03027236, 0.03012848, 0.03022957, 0.03118414, 0.03020936,\n",
       "        0.02997279, 0.03001308, 0.03002942, 0.03004384, 0.02994722,\n",
       "        0.02994698, 0.02969801, 0.02977777, 0.02808052, 0.02939415,\n",
       "        0.06234771, 0.0309273 , 0.03083068, 0.03087372, 0.03074616,\n",
       "        0.03072715, 0.03086829, 0.03066927, 0.03052157, 0.03066117,\n",
       "        0.03051829, 0.03057712, 0.03033096, 0.03047132, 0.03036553,\n",
       "        0.02933878, 0.03029728],\n",
       "       [0.03012848, 0.03027236, 0.03118414, 0.03022957, 0.02997279,\n",
       "        0.03020936, 0.03002942, 0.03001308, 0.02994722, 0.03004384,\n",
       "        0.02969801, 0.02994698, 0.02808052, 0.02977777, 0.06234771,\n",
       "        0.02939415, 0.03083068, 0.0309273 , 0.03074616, 0.03087372,\n",
       "        0.03086829, 0.03072715, 0.03052157, 0.03066927, 0.03051829,\n",
       "        0.03066117, 0.03033096, 0.03057712, 0.03036553, 0.03047132,\n",
       "        0.03029728, 0.02933878]])"
      ]
     },
     "execution_count": 160,
     "metadata": {},
     "output_type": "execute_result"
    }
   ],
   "source": [
    "cand_keystream_distribution[1]"
   ]
  },
  {
   "cell_type": "code",
   "execution_count": 162,
   "id": "1a0d1d97-a6d0-4885-bfd0-e8b4434f0bf8",
   "metadata": {},
   "outputs": [
    {
     "data": {
      "text/plain": [
       "numpy.ndarray"
      ]
     },
     "execution_count": 162,
     "metadata": {},
     "output_type": "execute_result"
    }
   ],
   "source": [
    "type(cand_keystream_distribution)"
   ]
  },
  {
   "cell_type": "code",
   "execution_count": 164,
   "id": "1c6aed4f-b4cf-4c25-af60-09ce1d49c9bb",
   "metadata": {},
   "outputs": [
    {
     "data": {
      "text/plain": [
       "list"
      ]
     },
     "execution_count": 164,
     "metadata": {},
     "output_type": "execute_result"
    }
   ],
   "source": [
    "type(keystream_dist)"
   ]
  },
  {
   "cell_type": "code",
   "execution_count": 166,
   "id": "febd0060-7383-4b3a-9d78-65f42646b472",
   "metadata": {},
   "outputs": [],
   "source": [
    "keystream_dist = np.array(keystream_dist)"
   ]
  },
  {
   "cell_type": "code",
   "execution_count": 168,
   "id": "b439e8af-4b92-498b-95fb-b5f8fe9f4bf7",
   "metadata": {},
   "outputs": [
    {
     "data": {
      "text/plain": [
       "numpy.ndarray"
      ]
     },
     "execution_count": 168,
     "metadata": {},
     "output_type": "execute_result"
    }
   ],
   "source": [
    "type(keystream_dist)"
   ]
  },
  {
   "cell_type": "code",
   "execution_count": 170,
   "id": "2500ff31-ec8e-4001-9be4-688cb87e21fb",
   "metadata": {},
   "outputs": [
    {
     "data": {
      "text/plain": [
       "(6, 32)"
      ]
     },
     "execution_count": 170,
     "metadata": {},
     "output_type": "execute_result"
    }
   ],
   "source": [
    "keystream_dist.shape"
   ]
  },
  {
   "cell_type": "markdown",
   "id": "dcabed8b-864f-4f6d-8674-3c9d78fddb11",
   "metadata": {},
   "source": [
    "## first byte:"
   ]
  },
  {
   "cell_type": "code",
   "execution_count": 173,
   "id": "ba9933bd-a236-458c-b388-eae1a706ceaa",
   "metadata": {
    "scrolled": true
   },
   "outputs": [],
   "source": [
    "diffenece = []\n",
    "for j in range(10):\n",
    "    temp = np.abs(keystream_dist[0] - cand_keystream_distribution[0][j])\n",
    "    # print(temp)\n",
    "    net_sum = np.sum(temp)\n",
    "    diffenece.append(net_sum)"
   ]
  },
  {
   "cell_type": "code",
   "execution_count": 175,
   "id": "1ca614fd-8702-4171-8c74-9eca1aeeab22",
   "metadata": {},
   "outputs": [
    {
     "data": {
      "text/plain": [
       "array([0.02069974, 0.02215815, 0.02011669, 0.02082419, 0.02169132,\n",
       "       0.019961  , 0.02185988, 0.0220145 , 0.02171171, 0.02190804])"
      ]
     },
     "execution_count": 175,
     "metadata": {},
     "output_type": "execute_result"
    }
   ],
   "source": [
    "diffenece = np.array(diffenece)\n",
    "diffenece"
   ]
  },
  {
   "cell_type": "code",
   "execution_count": 177,
   "id": "53b32ae0-7523-4179-a5c5-5870d278279b",
   "metadata": {},
   "outputs": [
    {
     "data": {
      "text/plain": [
       "5"
      ]
     },
     "execution_count": 177,
     "metadata": {},
     "output_type": "execute_result"
    }
   ],
   "source": [
    "diffenece.argmin()"
   ]
  },
  {
   "cell_type": "markdown",
   "id": "ac4d60d6-b3af-4322-9b0b-3d6fb59be91e",
   "metadata": {},
   "source": [
    "## second byte:"
   ]
  },
  {
   "cell_type": "code",
   "execution_count": 180,
   "id": "eca16535-7e64-4ecd-806b-c6fdb35157aa",
   "metadata": {},
   "outputs": [],
   "source": [
    "diffenece = []\n",
    "for j in range(10):\n",
    "    temp = np.abs(keystream_dist[1] - cand_keystream_distribution[1][j])\n",
    "    # print(temp)\n",
    "    net_sum = np.sum(temp)\n",
    "    diffenece.append(net_sum)"
   ]
  },
  {
   "cell_type": "code",
   "execution_count": 182,
   "id": "be218b08-884f-4718-b164-3947ee350334",
   "metadata": {},
   "outputs": [
    {
     "data": {
      "text/plain": [
       "array([0.08232343, 0.08280957, 0.08162344, 0.0821048 , 0.07923424,\n",
       "       0.0822252 , 0.08173776, 0.01035929, 0.08419108, 0.08462429])"
      ]
     },
     "execution_count": 182,
     "metadata": {},
     "output_type": "execute_result"
    }
   ],
   "source": [
    "diffenece = np.array(diffenece)\n",
    "diffenece"
   ]
  },
  {
   "cell_type": "code",
   "execution_count": 184,
   "id": "393aca18-ebf6-46f8-a7bd-03b2a08ae602",
   "metadata": {},
   "outputs": [
    {
     "data": {
      "text/plain": [
       "7"
      ]
     },
     "execution_count": 184,
     "metadata": {},
     "output_type": "execute_result"
    }
   ],
   "source": [
    "diffenece.argmin()"
   ]
  },
  {
   "cell_type": "markdown",
   "id": "a417028d-a3fe-4998-9477-98192e02cde1",
   "metadata": {},
   "source": [
    "## third byte:"
   ]
  },
  {
   "cell_type": "code",
   "execution_count": 187,
   "id": "58497023-b2d0-4f1c-8ec5-d4599854f573",
   "metadata": {},
   "outputs": [],
   "source": [
    "diffenece = []\n",
    "for j in range(10):\n",
    "    temp = np.abs(keystream_dist[2] - cand_keystream_distribution[2][j])\n",
    "    # print(temp)\n",
    "    net_sum = np.sum(temp)\n",
    "    diffenece.append(net_sum)"
   ]
  },
  {
   "cell_type": "code",
   "execution_count": 189,
   "id": "205861c4-ee41-4a3e-b1b1-32ba235cf1a9",
   "metadata": {},
   "outputs": [
    {
     "data": {
      "text/plain": [
       "array([0.00801289, 0.00785911, 0.008394  , 0.008214  , 0.00758457,\n",
       "       0.00676048, 0.00773656, 0.00861263, 0.00719798, 0.00722122])"
      ]
     },
     "execution_count": 189,
     "metadata": {},
     "output_type": "execute_result"
    }
   ],
   "source": [
    "diffenece = np.array(diffenece)\n",
    "diffenece"
   ]
  },
  {
   "cell_type": "code",
   "execution_count": 191,
   "id": "9bed7eb0-24e7-4334-a337-fdb3d2afd68a",
   "metadata": {},
   "outputs": [
    {
     "data": {
      "text/plain": [
       "5"
      ]
     },
     "execution_count": 191,
     "metadata": {},
     "output_type": "execute_result"
    }
   ],
   "source": [
    "diffenece.argmin()"
   ]
  },
  {
   "cell_type": "markdown",
   "id": "df8975dd-37ff-4938-b5cb-ded6887cf19f",
   "metadata": {},
   "source": [
    "## fourth byte:"
   ]
  },
  {
   "cell_type": "code",
   "execution_count": 194,
   "id": "0dbd07a5-d6b0-4d1c-86b4-b6b167ecd26a",
   "metadata": {},
   "outputs": [],
   "source": [
    "diffenece = []\n",
    "for j in range(10):\n",
    "    temp = np.abs(keystream_dist[3] - cand_keystream_distribution[3][j])\n",
    "    # print(temp)\n",
    "    net_sum = np.sum(temp)\n",
    "    diffenece.append(net_sum)"
   ]
  },
  {
   "cell_type": "code",
   "execution_count": 196,
   "id": "368b18bd-d822-4320-9567-d976df3902ca",
   "metadata": {},
   "outputs": [
    {
     "data": {
      "text/plain": [
       "array([0.01002705, 0.00611639, 0.00977778, 0.0086422 , 0.00947392,\n",
       "       0.00708413, 0.01180089, 0.00858009, 0.01082683, 0.01102209])"
      ]
     },
     "execution_count": 196,
     "metadata": {},
     "output_type": "execute_result"
    }
   ],
   "source": [
    "diffenece = np.array(diffenece)\n",
    "diffenece"
   ]
  },
  {
   "cell_type": "code",
   "execution_count": 198,
   "id": "bb58a1de-fa15-4a7b-88db-329eeb78f73c",
   "metadata": {},
   "outputs": [
    {
     "data": {
      "text/plain": [
       "1"
      ]
     },
     "execution_count": 198,
     "metadata": {},
     "output_type": "execute_result"
    }
   ],
   "source": [
    "diffenece.argmin()"
   ]
  },
  {
   "cell_type": "markdown",
   "id": "b75e257a-e50a-4d4f-8148-ce7bbe4db9f4",
   "metadata": {},
   "source": [
    "## fifth byte:"
   ]
  },
  {
   "cell_type": "code",
   "execution_count": 201,
   "id": "73f0694b-0741-409b-9152-262f9103c694",
   "metadata": {},
   "outputs": [],
   "source": [
    "diffenece = []\n",
    "for j in range(10):\n",
    "    temp = np.abs(keystream_dist[4] - cand_keystream_distribution[4][j])\n",
    "    # print(temp)\n",
    "    net_sum = np.sum(temp)\n",
    "    diffenece.append(net_sum)"
   ]
  },
  {
   "cell_type": "code",
   "execution_count": 203,
   "id": "57875e5b-f601-42af-b0a1-44f11d459073",
   "metadata": {},
   "outputs": [
    {
     "data": {
      "text/plain": [
       "array([0.0076524 , 0.00937271, 0.01162696, 0.01102662, 0.00885296,\n",
       "       0.00808418, 0.01094854, 0.01146638, 0.01037192, 0.01106513])"
      ]
     },
     "execution_count": 203,
     "metadata": {},
     "output_type": "execute_result"
    }
   ],
   "source": [
    "diffenece = np.array(diffenece)\n",
    "diffenece"
   ]
  },
  {
   "cell_type": "code",
   "execution_count": 205,
   "id": "1701e73f-62f2-425d-aa31-78b1a7418b79",
   "metadata": {},
   "outputs": [
    {
     "data": {
      "text/plain": [
       "0"
      ]
     },
     "execution_count": 205,
     "metadata": {},
     "output_type": "execute_result"
    }
   ],
   "source": [
    "diffenece.argmin()"
   ]
  },
  {
   "cell_type": "markdown",
   "id": "c790d901-c0d4-4c44-bd5d-1de3ec2b0105",
   "metadata": {},
   "source": [
    "## sixth byte:"
   ]
  },
  {
   "cell_type": "code",
   "execution_count": 208,
   "id": "494a8820-1d90-4fe3-8155-e06936a51307",
   "metadata": {},
   "outputs": [],
   "source": [
    "diffenece = []\n",
    "for j in range(10):\n",
    "    temp = np.abs(keystream_dist[5] - cand_keystream_distribution[5][j])\n",
    "    # print(temp)\n",
    "    net_sum = np.sum(temp)\n",
    "    diffenece.append(net_sum)"
   ]
  },
  {
   "cell_type": "code",
   "execution_count": 210,
   "id": "12677b73-0db8-4df1-a339-50f858580978",
   "metadata": {},
   "outputs": [
    {
     "data": {
      "text/plain": [
       "array([0.00927162, 0.00898886, 0.00762403, 0.00656605, 0.00731063,\n",
       "       0.00603306, 0.009884  , 0.00898111, 0.00942647, 0.00919175])"
      ]
     },
     "execution_count": 210,
     "metadata": {},
     "output_type": "execute_result"
    }
   ],
   "source": [
    "diffenece = np.array(diffenece)\n",
    "diffenece"
   ]
  },
  {
   "cell_type": "code",
   "execution_count": 212,
   "id": "51c06f41-c8c4-4321-b8d0-178723e6ff5e",
   "metadata": {},
   "outputs": [
    {
     "data": {
      "text/plain": [
       "5"
      ]
     },
     "execution_count": 212,
     "metadata": {},
     "output_type": "execute_result"
    }
   ],
   "source": [
    "diffenece.argmin()"
   ]
  },
  {
   "cell_type": "code",
   "execution_count": 214,
   "id": "e7511ab5-6563-45b7-9554-133a3cfb504b",
   "metadata": {},
   "outputs": [],
   "source": [
    "############"
   ]
  },
  {
   "cell_type": "code",
   "execution_count": 224,
   "id": "936c4b5a-01ad-4312-bdd3-d0292274352c",
   "metadata": {},
   "outputs": [
    {
     "data": {
      "image/png": "[encoded data removed]",
      "text/plain": [
       "<Figure size 1000x600 with 1 Axes>"
      ]
     },
     "metadata": {},
     "output_type": "display_data"
    }
   ],
   "source": [
    "import matplotlib.pyplot as plt\n",
    "\n",
    "# Plotting the line plot\n",
    "plt.figure(figsize=(10, 6))\n",
    "for i in range(ksd_matrix.shape[0]):\n",
    "    plt.plot(ksd_matrix[i], label=f'Row {i + 1}')\n",
    "\n",
    "plt.xlabel('Index')\n",
    "plt.ylabel('Value')\n",
    "plt.title('Distribution of ksd_matrix Rows')\n",
    "plt.legend()\n",
    "\n",
    "# Save the plot as a PNG file\n",
    "plt.savefig(\"ksd_matrix_line_plot.png\", format='png', dpi=300)  # Adjust dpi for resolution\n",
    "plt.show()\n",
    "plt.close()  # Close the figure after saving"
   ]
  },
  {
   "cell_type": "code",
   "execution_count": 222,
   "id": "43849e2f-e874-456e-9c45-312eb67ae21b",
   "metadata": {},
   "outputs": [],
   "source": []
  },
  {
   "cell_type": "code",
   "execution_count": 226,
   "id": "2fd5107b-5eb2-4aa7-8103-e0e936049131",
   "metadata": {},
   "outputs": [
    {
     "data": {
      "image/png": "[encoded data removed]",
      "text/plain": [
       "<Figure size 1200x600 with 2 Axes>"
      ]
     },
     "metadata": {},
     "output_type": "display_data"
    }
   ],
   "source": [
    "import matplotlib.pyplot as plt\n",
    "import seaborn as sns\n",
    "\n",
    "# Plotting the heatmap\n",
    "plt.figure(figsize=(12, 6))\n",
    "sns.heatmap(ksd_matrix, cmap='viridis', annot=False)\n",
    "plt.xlabel('Column Index')\n",
    "plt.ylabel('Row Index')\n",
    "plt.title('Heatmap of ksd_matrix Distribution')\n",
    "\n",
    "# Save the plot as a PDF file\n",
    "plt.savefig(\"ksd_matrix_heatmap.pdf\", format='pdf', dpi=300)\n",
    "plt.show()\n",
    "plt.close()  # Close the figure after saving"
   ]
  },
  {
   "cell_type": "code",
   "execution_count": null,
   "id": "4521247b-1b78-45f8-94c2-64bf0f547455",
   "metadata": {},
   "outputs": [],
   "source": []
  }
 ],
 "metadata": {
  "kernelspec": {
   "display_name": "Python 3 (ipykernel)",
   "language": "python",
   "name": "python3"
  },
  "language_info": {
   "codemirror_mode": {
    "name": "ipython",
    "version": 3
   },
   "file_extension": ".py",
   "mimetype": "text/x-python",
   "name": "python",
   "nbconvert_exporter": "python",
   "pygments_lexer": "ipython3",
   "version": "3.12.7"
  },
  "panel-cell-order": [
   "956e5929-746c-4ae1-a82d-5a413b9b0840",
   "b80fbbab-ff54-4908-b260-ad3d393e0b03",
   "cb015873-76b9-4949-a874-e529ade034ed",
   "76e65410-d252-45e4-b7a5-1650a573dac2",
   "f5821b33-d02c-4222-a291-03b2106bfe2d"
  ]
 },
 "nbformat": 4,
 "nbformat_minor": 5
}
