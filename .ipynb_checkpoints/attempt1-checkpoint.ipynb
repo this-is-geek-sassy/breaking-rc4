{
 "cells": [
  {
   "cell_type": "code",
   "execution_count": 1,
   "id": "dd56a179-e658-453f-a103-ed5b519e0671",
   "metadata": {},
   "outputs": [],
   "source": [
    "import ast, secrets\n",
    "import numpy as np"
   ]
  },
  {
   "cell_type": "code",
   "execution_count": 3,
   "id": "d56a6856-45fb-4882-8b11-28b81785560e",
   "metadata": {},
   "outputs": [],
   "source": [
    "master_cipher_collection = []"
   ]
  },
  {
   "cell_type": "code",
   "execution_count": 2,
   "id": "ca70f8ad-78b5-458b-bb6f-4f92714710be",
   "metadata": {},
   "outputs": [],
   "source": [
    "file = open(\"./Ciphertexts/ciphertexts_1.txt\", 'r')\n",
    "\n",
    "firstFileCipher = [line[:-1] for line in file.readlines()]"
   ]
  },
  {
   "cell_type": "code",
   "execution_count": 6,
   "id": "956e5929-746c-4ae1-a82d-5a413b9b0840",
   "metadata": {
    "panel-layout": {
     "height": 856,
     "visible": true,
     "width": 100
    }
   },
   "outputs": [
    {
     "data": {
      "text/plain": [
       "4096"
      ]
     },
     "execution_count": 6,
     "metadata": {},
     "output_type": "execute_result"
    }
   ],
   "source": [
    "len(firstFileCipher)"
   ]
  },
  {
   "cell_type": "code",
   "execution_count": 18,
   "id": "27d6f52a-bcf3-4d5b-9058-fdab83c503b0",
   "metadata": {},
   "outputs": [],
   "source": [
    "# import ast\n",
    "\n",
    "for item in firstFileCipher:\n",
    "    master_cipher_collection.append(ast.literal_eval(item))"
   ]
  },
  {
   "cell_type": "code",
   "execution_count": 22,
   "id": "b80fbbab-ff54-4908-b260-ad3d393e0b03",
   "metadata": {
    "panel-layout": {
     "height": 27.15,
     "visible": true,
     "width": 100
    }
   },
   "outputs": [
    {
     "data": {
      "text/plain": [
       "4096"
      ]
     },
     "execution_count": 22,
     "metadata": {},
     "output_type": "execute_result"
    }
   ],
   "source": [
    "len(master_cipher_collection)"
   ]
  },
  {
   "cell_type": "code",
   "execution_count": 5,
   "id": "eb588352-7db3-4d1f-8f08-b46078820a79",
   "metadata": {},
   "outputs": [],
   "source": [
    "for i in range(1,4097):\n",
    "    filename = \"./Ciphertexts/ciphertexts_\" + str(i) + \".txt\"\n",
    "    # print(filename)\n",
    "    file = open(filename, 'r')\n",
    "    # master_cipher_collection.append([ast.literal_eval(line[:-1]) for line in file.readlines()])\n",
    "    for line in file.readlines():\n",
    "        master_cipher_collection.append(ast.literal_eval(line[:-1]))\n",
    "    file.close()"
   ]
  },
  {
   "cell_type": "code",
   "execution_count": 6,
   "id": "cb015873-76b9-4949-a874-e529ade034ed",
   "metadata": {
    "panel-layout": {
     "height": 27.15,
     "visible": true,
     "width": 100
    }
   },
   "outputs": [
    {
     "data": {
      "text/plain": [
       "16777216"
      ]
     },
     "execution_count": 6,
     "metadata": {},
     "output_type": "execute_result"
    }
   ],
   "source": [
    "len(master_cipher_collection)"
   ]
  },
  {
   "cell_type": "code",
   "execution_count": 7,
   "id": "76e65410-d252-45e4-b7a5-1650a573dac2",
   "metadata": {
    "panel-layout": {
     "height": 1662.33,
     "visible": true,
     "width": 100
    }
   },
   "outputs": [],
   "source": [
    "# master_cipher_collection"
   ]
  },
  {
   "cell_type": "code",
   "execution_count": 8,
   "id": "f5821b33-d02c-4222-a291-03b2106bfe2d",
   "metadata": {
    "panel-layout": {
     "height": 27.150009155273438,
     "visible": true,
     "width": 100
    }
   },
   "outputs": [
    {
     "data": {
      "text/plain": [
       "6"
      ]
     },
     "execution_count": 8,
     "metadata": {},
     "output_type": "execute_result"
    }
   ],
   "source": [
    "len(master_cipher_collection[0])"
   ]
  },
  {
   "cell_type": "code",
   "execution_count": 13,
   "id": "740cebfd-4cd5-4a0b-96ea-43493312e048",
   "metadata": {},
   "outputs": [],
   "source": [
    "master_cipher_collection = np.array(master_cipher_collection)"
   ]
  },
  {
   "cell_type": "code",
   "execution_count": 14,
   "id": "25c1e910-c146-4eee-863d-bc3fd20f5123",
   "metadata": {},
   "outputs": [
    {
     "data": {
      "text/plain": [
       "(16777216, 6)"
      ]
     },
     "execution_count": 14,
     "metadata": {},
     "output_type": "execute_result"
    }
   ],
   "source": [
    "master_cipher_collection.shape"
   ]
  },
  {
   "cell_type": "markdown",
   "id": "dd87d291-4315-409e-ad02-bc729967fd38",
   "metadata": {},
   "source": [
    "seed generation:"
   ]
  },
  {
   "cell_type": "code",
   "execution_count": 18,
   "id": "efd2a949-767c-407b-939e-979b717da20d",
   "metadata": {},
   "outputs": [
    {
     "name": "stdout",
     "output_type": "stream",
     "text": [
      "b'J#\\x1dd\\x02'\n",
      "The seed is 5 bytes long.\n"
     ]
    }
   ],
   "source": [
    "seed = secrets.token_bytes(5)\n",
    "print(seed)\n",
    "\n",
    "# Verify the length\n",
    "if len(seed) == 5:\n",
    "    print(\"The seed is 5 bytes long.\")\n",
    "else:\n",
    "    print(\"The seed is not 5 bytes long.\")"
   ]
  },
  {
   "cell_type": "code",
   "execution_count": 18,
   "id": "4aed76c1-f329-400d-ab32-83d9ccb9cf3f",
   "metadata": {},
   "outputs": [
    {
     "name": "stdout",
     "output_type": "stream",
     "text": [
      "b'\\xb5\\xac/d1'\n"
     ]
    }
   ],
   "source": [
    "import os\n",
    "\n",
    "seed = os.urandom(5)\n",
    "print(seed)\n"
   ]
  },
  {
   "cell_type": "code",
   "execution_count": 18,
   "id": "5f2ce9d6-7d35-49e7-87b6-47db2179dc65",
   "metadata": {},
   "outputs": [
    {
     "data": {
      "text/plain": [
       "5"
      ]
     },
     "execution_count": 18,
     "metadata": {},
     "output_type": "execute_result"
    }
   ],
   "source": [
    "len(seed)"
   ]
  },
  {
   "cell_type": "markdown",
   "id": "57d36103-a627-4d64-84e8-ee847af5e0fe",
   "metadata": {},
   "source": [
    "defining rc4:"
   ]
  },
  {
   "cell_type": "code",
   "execution_count": 20,
   "id": "f93e7279-8459-466c-ac7b-db0bc897a2aa",
   "metadata": {},
   "outputs": [
    {
     "name": "stdout",
     "output_type": "stream",
     "text": [
      "5 16777216\n"
     ]
    }
   ],
   "source": [
    "n = 5\n",
    "constant = 2**24\n",
    "print(n, constant)"
   ]
  },
  {
   "cell_type": "code",
   "execution_count": 22,
   "id": "4bf05a49-28b4-41a8-a6f5-74679150e14f",
   "metadata": {},
   "outputs": [],
   "source": [
    "# S = []\n",
    "\n",
    "def swap(S, i, j):\n",
    "    temp = S[i]\n",
    "    S[i] = S[j]\n",
    "    S[j] = temp\n",
    "\n",
    "def Key_Scheduling_Algorithim(seed):\n",
    "    S = []\n",
    "    for i in range(0,2**n):\n",
    "        S.append(i)\n",
    "    # print(S)\n",
    "    j = 0\n",
    "    l = len(seed)\n",
    "    for i in range(0,2**n):\n",
    "        j = (j + S[i] + seed[i%l]) % (2**n)\n",
    "        swap(S, i, j)\n",
    "    return S\n",
    "\n",
    "def Pseudeo_Random_Generation(S, passcode_length):\n",
    "    i = 0\n",
    "    j = 0\n",
    "    keystream = [0 for i in range(0,passcode_length)]   # defining a keystream list of length m\n",
    "\n",
    "    for t in range(0,passcode_length):\n",
    "        i = (i+1) % (2**n)\n",
    "        j = (j + S[i]) % (2**n)\n",
    "        swap(S, i, j)\n",
    "        keystream[t] = S[(S[i] + S[j]) % (2**n)]\n",
    "\n",
    "    return keystream\n",
    "        \n",
    "# S"
   ]
  },
  {
   "cell_type": "code",
   "execution_count": 24,
   "id": "58b9923c-b12a-459b-9218-a554a5c20c35",
   "metadata": {},
   "outputs": [],
   "source": [
    "# S = []\n",
    "S = Key_Scheduling_Algorithim(seed)"
   ]
  },
  {
   "cell_type": "code",
   "execution_count": 34,
   "id": "08839acd-58f7-464a-9016-e61676d7ff36",
   "metadata": {},
   "outputs": [
    {
     "name": "stdout",
     "output_type": "stream",
     "text": [
      "[20, 14, 26, 9, 30, 24, 1, 6, 13, 5, 7, 11, 21, 16, 0, 19, 2, 17, 4, 29, 12, 8, 18, 23, 31, 22, 15, 3, 27, 28, 25, 10]\n"
     ]
    }
   ],
   "source": [
    "print(S)"
   ]
  },
  {
   "cell_type": "code",
   "execution_count": 32,
   "id": "7ceb60f3-2e80-4278-8d4a-2914dea12de3",
   "metadata": {},
   "outputs": [
    {
     "data": {
      "text/plain": [
       "[30, 5, 4, 12, 23, 30]"
      ]
     },
     "execution_count": 32,
     "metadata": {},
     "output_type": "execute_result"
    }
   ],
   "source": [
    "Pseudeo_Random_Generation(S, 6)"
   ]
  },
  {
   "cell_type": "code",
   "execution_count": 36,
   "id": "7f864f0a-c349-4801-b1cf-c2ad5b15af7e",
   "metadata": {},
   "outputs": [],
   "source": [
    "keystream = [0 for i in range(0,6)]"
   ]
  },
  {
   "cell_type": "code",
   "execution_count": 38,
   "id": "8a859beb-da21-4d5d-aea2-5723c12fb875",
   "metadata": {},
   "outputs": [
    {
     "data": {
      "text/plain": [
       "[0, 0, 0, 0, 0, 0]"
      ]
     },
     "execution_count": 38,
     "metadata": {},
     "output_type": "execute_result"
    }
   ],
   "source": [
    "keystream"
   ]
  },
  {
   "cell_type": "code",
   "execution_count": 40,
   "id": "1a441a21-dc89-4150-becd-683242e6900c",
   "metadata": {},
   "outputs": [],
   "source": [
    "# total_keystream_collection = []\n",
    "\n",
    "\n",
    "def all_keystream_generation():\n",
    "    total_keystream_collection = []\n",
    "    m = 6  #hardcoding 6 bytes\n",
    "    number_of_keys = 2**24\n",
    "\n",
    "    for i in range(0,number_of_keys):\n",
    "        seed = secrets.token_bytes(5)\n",
    "        Key_Scheduling_Algorithim(seed)\n",
    "        keystream = Pseudeo_Random_Generation(S, m)\n",
    "        total_keystream_collection.append(keystream)\n",
    "    return total_keystream_collection"
   ]
  },
  {
   "cell_type": "code",
   "execution_count": 42,
   "id": "5a5f73ac-a58e-4bb6-914e-dc8f635d1ba4",
   "metadata": {},
   "outputs": [],
   "source": [
    "total_keystream_collection = all_keystream_generation()"
   ]
  },
  {
   "cell_type": "code",
   "execution_count": 43,
   "id": "8b8ebe89-527b-4f64-850f-ec106f428c19",
   "metadata": {},
   "outputs": [
    {
     "data": {
      "text/plain": [
       "16777216"
      ]
     },
     "execution_count": 43,
     "metadata": {},
     "output_type": "execute_result"
    }
   ],
   "source": [
    "len(total_keystream_collection)"
   ]
  },
  {
   "cell_type": "code",
   "execution_count": 48,
   "id": "00a86541-e85a-42f5-acd4-3a072fdaa738",
   "metadata": {},
   "outputs": [],
   "source": [
    "# total_keystream_collection"
   ]
  },
  {
   "cell_type": "code",
   "execution_count": 50,
   "id": "b2a1ec1b-6b84-4fad-a393-b75ec5b601b9",
   "metadata": {},
   "outputs": [],
   "source": [
    "keystream_dist = [[] for i in range(6)]"
   ]
  },
  {
   "cell_type": "code",
   "execution_count": 52,
   "id": "85094317-bf98-4299-9db5-385e2ef09069",
   "metadata": {},
   "outputs": [
    {
     "data": {
      "text/plain": [
       "[[], [], [], [], [], []]"
      ]
     },
     "execution_count": 52,
     "metadata": {},
     "output_type": "execute_result"
    }
   ],
   "source": [
    "keystream_dist"
   ]
  },
  {
   "cell_type": "code",
   "execution_count": 54,
   "id": "4af567b6-17e1-48a4-b443-1ebf0708877a",
   "metadata": {},
   "outputs": [],
   "source": [
    "for i in range(0,6):\n",
    "    keystream_dist[i] = [0 for j in range(32)]"
   ]
  },
  {
   "cell_type": "code",
   "execution_count": 56,
   "id": "f709226b-de19-439c-b140-4511907f5d69",
   "metadata": {},
   "outputs": [
    {
     "data": {
      "text/plain": [
       "[0, 0, 0, 0, 0, 0]"
      ]
     },
     "execution_count": 56,
     "metadata": {},
     "output_type": "execute_result"
    }
   ],
   "source": [
    "keystream"
   ]
  },
  {
   "cell_type": "code",
   "execution_count": 58,
   "id": "22a1cb51-ab96-4f07-8388-cdc4e42dcf3c",
   "metadata": {
    "scrolled": true
   },
   "outputs": [
    {
     "data": {
      "text/plain": [
       "array([[0., 0., 0., 0., 0., 0., 0., 0., 0., 0., 0., 0., 0., 0., 0., 0.,\n",
       "        0., 0., 0., 0., 0., 0., 0., 0., 0., 0., 0., 0., 0., 0., 0., 0.],\n",
       "       [0., 0., 0., 0., 0., 0., 0., 0., 0., 0., 0., 0., 0., 0., 0., 0.,\n",
       "        0., 0., 0., 0., 0., 0., 0., 0., 0., 0., 0., 0., 0., 0., 0., 0.],\n",
       "       [0., 0., 0., 0., 0., 0., 0., 0., 0., 0., 0., 0., 0., 0., 0., 0.,\n",
       "        0., 0., 0., 0., 0., 0., 0., 0., 0., 0., 0., 0., 0., 0., 0., 0.],\n",
       "       [0., 0., 0., 0., 0., 0., 0., 0., 0., 0., 0., 0., 0., 0., 0., 0.,\n",
       "        0., 0., 0., 0., 0., 0., 0., 0., 0., 0., 0., 0., 0., 0., 0., 0.],\n",
       "       [0., 0., 0., 0., 0., 0., 0., 0., 0., 0., 0., 0., 0., 0., 0., 0.,\n",
       "        0., 0., 0., 0., 0., 0., 0., 0., 0., 0., 0., 0., 0., 0., 0., 0.],\n",
       "       [0., 0., 0., 0., 0., 0., 0., 0., 0., 0., 0., 0., 0., 0., 0., 0.,\n",
       "        0., 0., 0., 0., 0., 0., 0., 0., 0., 0., 0., 0., 0., 0., 0., 0.]])"
      ]
     },
     "execution_count": 58,
     "metadata": {},
     "output_type": "execute_result"
    }
   ],
   "source": [
    "import numpy as np\n",
    "keystream_dist = [[0 for j in range(32)] for i in range(6)]\n",
    "ksd_matrix = np.array(keystream_dist, dtype=float)\n",
    "ksd_matrix"
   ]
  },
  {
   "cell_type": "code",
   "execution_count": 60,
   "id": "daa7ce0c-9a9a-4788-8b0c-4ca1e219f884",
   "metadata": {
    "scrolled": true
   },
   "outputs": [
    {
     "name": "stdout",
     "output_type": "stream",
     "text": [
      "[[0. 0. 0. 0. 0. 0. 0. 0. 0. 0. 0. 0. 0. 0. 0. 0. 0. 0. 0. 0. 0. 0. 0. 0.\n",
      "  0. 0. 0. 0. 0. 0. 0. 0.]\n",
      " [0. 0. 0. 0. 0. 0. 0. 0. 0. 0. 0. 0. 0. 0. 0. 0. 0. 0. 0. 0. 0. 0. 0. 0.\n",
      "  0. 0. 0. 0. 0. 0. 0. 0.]\n",
      " [0. 0. 0. 0. 0. 0. 0. 0. 0. 0. 0. 0. 0. 0. 0. 0. 0. 0. 0. 0. 0. 0. 0. 0.\n",
      "  0. 0. 0. 0. 0. 0. 0. 0.]\n",
      " [0. 0. 0. 0. 0. 0. 0. 0. 0. 0. 0. 0. 0. 0. 0. 0. 0. 0. 0. 0. 0. 0. 0. 0.\n",
      "  0. 0. 0. 0. 0. 0. 0. 0.]\n",
      " [0. 0. 0. 0. 0. 0. 0. 0. 0. 0. 0. 0. 0. 0. 0. 0. 0. 0. 0. 0. 0. 0. 0. 0.\n",
      "  0. 0. 0. 0. 0. 0. 0. 0.]\n",
      " [0. 0. 0. 0. 0. 0. 0. 0. 0. 0. 0. 0. 0. 0. 0. 0. 0. 0. 0. 0. 0. 0. 0. 0.\n",
      "  0. 0. 0. 0. 0. 0. 0. 0.]]\n"
     ]
    }
   ],
   "source": [
    "print(ksd_matrix)"
   ]
  },
  {
   "cell_type": "code",
   "execution_count": 62,
   "id": "ff85a5af-dab3-4ac1-a690-66904c48f8c7",
   "metadata": {},
   "outputs": [],
   "source": [
    "for i in range(6):\n",
    "    for k in range(2**24):\n",
    "        ksd_matrix[i][total_keystream_collection[k][i]] += 1\n",
    "        keystream_dist[i][total_keystream_collection[k][i]] += 1"
   ]
  },
  {
   "cell_type": "code",
   "execution_count": 70,
   "id": "feaf94fc-9d87-4c79-8c72-3a015a1d3f5b",
   "metadata": {},
   "outputs": [],
   "source": [
    "# ksd_matrix"
   ]
  },
  {
   "cell_type": "code",
   "execution_count": 68,
   "id": "85987581-07b0-4516-be9d-957a557b0d76",
   "metadata": {},
   "outputs": [],
   "source": [
    "# keystream_dist"
   ]
  },
  {
   "cell_type": "code",
   "execution_count": 72,
   "id": "08477051-513e-4381-9a50-c3712dd62141",
   "metadata": {},
   "outputs": [
    {
     "data": {
      "text/plain": [
       "16777216"
      ]
     },
     "execution_count": 72,
     "metadata": {},
     "output_type": "execute_result"
    }
   ],
   "source": [
    "constant"
   ]
  },
  {
   "cell_type": "code",
   "execution_count": 74,
   "id": "bc41ee53-fdb8-4ae9-b14b-2b8be290fc2d",
   "metadata": {},
   "outputs": [],
   "source": [
    "for i in range(6):\n",
    "    for j in range(32):\n",
    "        ksd_matrix[i][j] /= constant\n",
    "        keystream_dist[i][j] /= constant"
   ]
  },
  {
   "cell_type": "code",
   "execution_count": 116,
   "id": "4f93f7d0-aa50-4fd3-a38b-a4d2fffe6508",
   "metadata": {
    "scrolled": true
   },
   "outputs": [
    {
     "data": {
      "text/plain": [
       "array([[0.0319528 , 0.02390212, 0.03245133, 0.03215218, 0.03231764,\n",
       "        0.0322206 , 0.0313468 , 0.03094691, 0.03073376, 0.03126299,\n",
       "        0.03086734, 0.03105152, 0.03085154, 0.03136176, 0.0310998 ,\n",
       "        0.03134686, 0.03174531, 0.03132623, 0.03111017, 0.03133553,\n",
       "        0.03105283, 0.03136414, 0.0311321 , 0.03133476, 0.03106129,\n",
       "        0.03121138, 0.03111124, 0.03170538, 0.03153217, 0.03192413,\n",
       "        0.03197408, 0.03321332],\n",
       "       [0.06505406, 0.02959949, 0.02822447, 0.0300526 , 0.03006989,\n",
       "        0.03015685, 0.03009856, 0.03025961, 0.03022903, 0.03033334,\n",
       "        0.03021032, 0.03021115, 0.03074127, 0.03030258, 0.03025782,\n",
       "        0.03039587, 0.03019708, 0.02926809, 0.03002429, 0.0302344 ,\n",
       "        0.03014904, 0.03019267, 0.03020775, 0.03027117, 0.03034532,\n",
       "        0.03025597, 0.03035665, 0.03037584, 0.030325  , 0.03046101,\n",
       "        0.03077298, 0.03036582],\n",
       "       [0.03107834, 0.03191024, 0.03093439, 0.03195161, 0.03116667,\n",
       "        0.03121406, 0.03120494, 0.03106844, 0.03116649, 0.0312441 ,\n",
       "        0.03121614, 0.03115559, 0.03122848, 0.03113496, 0.03121167,\n",
       "        0.03126025, 0.03139383, 0.03106326, 0.03139722, 0.03184688,\n",
       "        0.03125411, 0.03117198, 0.03126246, 0.03109181, 0.03131223,\n",
       "        0.03116232, 0.0312258 , 0.03113425, 0.03110707, 0.03112715,\n",
       "        0.03140599, 0.03089726],\n",
       "       [0.03214347, 0.03203237, 0.03178221, 0.03100914, 0.03228939,\n",
       "        0.03103882, 0.03107637, 0.03113121, 0.03112882, 0.03124136,\n",
       "        0.03117138, 0.03118128, 0.03109944, 0.03123391, 0.0311833 ,\n",
       "        0.03109354, 0.03113919, 0.03121072, 0.03112584, 0.03125745,\n",
       "        0.03108931, 0.03118896, 0.03119642, 0.03116703, 0.03101546,\n",
       "        0.03118855, 0.0311749 , 0.03119391, 0.03105754, 0.03101337,\n",
       "        0.03096956, 0.03117579],\n",
       "       [0.03201979, 0.03211164, 0.03071177, 0.03144348, 0.03143781,\n",
       "        0.03187692, 0.03102988, 0.03126907, 0.03115368, 0.03116167,\n",
       "        0.03120786, 0.0310939 , 0.03124505, 0.03113079, 0.0310238 ,\n",
       "        0.03115547, 0.03114104, 0.03112823, 0.03112614, 0.03141713,\n",
       "        0.03131044, 0.0311029 , 0.03123581, 0.03117442, 0.03125685,\n",
       "        0.03119141, 0.03120047, 0.03121835, 0.03119969, 0.03108782,\n",
       "        0.0310865 , 0.03105021],\n",
       "       [0.03202963, 0.03207773, 0.03094107, 0.03107667, 0.03134668,\n",
       "        0.03131378, 0.03178954, 0.03122455, 0.03121448, 0.03124541,\n",
       "        0.03113496, 0.03121573, 0.03113347, 0.03113973, 0.03110504,\n",
       "        0.03119391, 0.0311687 , 0.03121424, 0.03111601, 0.0313127 ,\n",
       "        0.03123802, 0.03127944, 0.03110212, 0.03109825, 0.03110713,\n",
       "        0.03119266, 0.0311529 , 0.03125429, 0.03121156, 0.0311178 ,\n",
       "        0.03116721, 0.0310846 ]])"
      ]
     },
     "execution_count": 116,
     "metadata": {},
     "output_type": "execute_result"
    }
   ],
   "source": [
    "ksd_matrix"
   ]
  },
  {
   "cell_type": "code",
   "execution_count": 113,
   "id": "cf64167f-ae70-4c17-ba33-6b20bf387a85",
   "metadata": {},
   "outputs": [],
   "source": [
    "# master_cipher_collection = np.array(master_cipher_collection)"
   ]
  },
  {
   "cell_type": "code",
   "execution_count": 80,
   "id": "d2755910-a3eb-4a8d-a84b-0fc83b3b9eb6",
   "metadata": {},
   "outputs": [],
   "source": [
    "cand_keystream = np.zeros((6,10,constant), dtype=int)"
   ]
  },
  {
   "cell_type": "code",
   "execution_count": 82,
   "id": "7afc8671-60e8-400b-918d-0f182ec5286f",
   "metadata": {
    "scrolled": true
   },
   "outputs": [
    {
     "data": {
      "text/plain": [
       "array([[[0, 0, 0, ..., 0, 0, 0],\n",
       "        [0, 0, 0, ..., 0, 0, 0],\n",
       "        [0, 0, 0, ..., 0, 0, 0],\n",
       "        ...,\n",
       "        [0, 0, 0, ..., 0, 0, 0],\n",
       "        [0, 0, 0, ..., 0, 0, 0],\n",
       "        [0, 0, 0, ..., 0, 0, 0]],\n",
       "\n",
       "       [[0, 0, 0, ..., 0, 0, 0],\n",
       "        [0, 0, 0, ..., 0, 0, 0],\n",
       "        [0, 0, 0, ..., 0, 0, 0],\n",
       "        ...,\n",
       "        [0, 0, 0, ..., 0, 0, 0],\n",
       "        [0, 0, 0, ..., 0, 0, 0],\n",
       "        [0, 0, 0, ..., 0, 0, 0]],\n",
       "\n",
       "       [[0, 0, 0, ..., 0, 0, 0],\n",
       "        [0, 0, 0, ..., 0, 0, 0],\n",
       "        [0, 0, 0, ..., 0, 0, 0],\n",
       "        ...,\n",
       "        [0, 0, 0, ..., 0, 0, 0],\n",
       "        [0, 0, 0, ..., 0, 0, 0],\n",
       "        [0, 0, 0, ..., 0, 0, 0]],\n",
       "\n",
       "       [[0, 0, 0, ..., 0, 0, 0],\n",
       "        [0, 0, 0, ..., 0, 0, 0],\n",
       "        [0, 0, 0, ..., 0, 0, 0],\n",
       "        ...,\n",
       "        [0, 0, 0, ..., 0, 0, 0],\n",
       "        [0, 0, 0, ..., 0, 0, 0],\n",
       "        [0, 0, 0, ..., 0, 0, 0]],\n",
       "\n",
       "       [[0, 0, 0, ..., 0, 0, 0],\n",
       "        [0, 0, 0, ..., 0, 0, 0],\n",
       "        [0, 0, 0, ..., 0, 0, 0],\n",
       "        ...,\n",
       "        [0, 0, 0, ..., 0, 0, 0],\n",
       "        [0, 0, 0, ..., 0, 0, 0],\n",
       "        [0, 0, 0, ..., 0, 0, 0]],\n",
       "\n",
       "       [[0, 0, 0, ..., 0, 0, 0],\n",
       "        [0, 0, 0, ..., 0, 0, 0],\n",
       "        [0, 0, 0, ..., 0, 0, 0],\n",
       "        ...,\n",
       "        [0, 0, 0, ..., 0, 0, 0],\n",
       "        [0, 0, 0, ..., 0, 0, 0],\n",
       "        [0, 0, 0, ..., 0, 0, 0]]])"
      ]
     },
     "execution_count": 82,
     "metadata": {},
     "output_type": "execute_result"
    }
   ],
   "source": [
    "cand_keystream"
   ]
  },
  {
   "cell_type": "code",
   "execution_count": 84,
   "id": "3e24fc09-72bf-4752-89dc-595e51fdf6b7",
   "metadata": {},
   "outputs": [
    {
     "data": {
      "text/plain": [
       "dtype('int64')"
      ]
     },
     "execution_count": 84,
     "metadata": {},
     "output_type": "execute_result"
    }
   ],
   "source": [
    "master_cipher_collection.dtype"
   ]
  },
  {
   "cell_type": "code",
   "execution_count": 86,
   "id": "81346c82-ef98-4b67-8d66-653ae8460931",
   "metadata": {},
   "outputs": [
    {
     "data": {
      "text/plain": [
       "dtype('int64')"
      ]
     },
     "execution_count": 86,
     "metadata": {},
     "output_type": "execute_result"
    }
   ],
   "source": [
    "cand_keystream.dtype"
   ]
  },
  {
   "cell_type": "code",
   "execution_count": 88,
   "id": "39f7d3d2-aa4e-4e8a-a390-02e87df54faa",
   "metadata": {},
   "outputs": [
    {
     "data": {
      "text/plain": [
       "(16777216, 6)"
      ]
     },
     "execution_count": 88,
     "metadata": {},
     "output_type": "execute_result"
    }
   ],
   "source": [
    "master_cipher_collection.shape"
   ]
  },
  {
   "cell_type": "code",
   "execution_count": 90,
   "id": "82853f85-1d90-4b60-b2b8-c3dbdf1afc20",
   "metadata": {},
   "outputs": [],
   "source": [
    "def _xor(a, b):\n",
    "    return a^b"
   ]
  },
  {
   "cell_type": "code",
   "execution_count": 98,
   "id": "e84f0939-a35c-4fff-95ca-af787846e9cc",
   "metadata": {},
   "outputs": [],
   "source": [
    "# first byte only:\n",
    "for i in range(10):\n",
    "    for j in range(constant):\n",
    "        cand_keystream[0][i][j] = _xor((i+48), master_cipher_collection[j][0])"
   ]
  },
  {
   "cell_type": "code",
   "execution_count": 102,
   "id": "feda3230-dff5-4aa9-aaf0-a747b964f5d1",
   "metadata": {},
   "outputs": [],
   "source": [
    "cand_keystream = np.zeros((6,10,constant), dtype=int)\n",
    "\n",
    "# an all bytes attempt:\n",
    "for k in range(6):\n",
    "    for i in range(10):\n",
    "        for j in range(constant):\n",
    "            cand_keystream[k][i][j] = _xor((i+48), master_cipher_collection[j][k])"
   ]
  },
  {
   "cell_type": "code",
   "execution_count": 103,
   "id": "985cd89b-72b0-4448-bd09-5511c5deeb8d",
   "metadata": {},
   "outputs": [
    {
     "data": {
      "text/plain": [
       "array([[12, 24,  7, ..., 10, 26,  9],\n",
       "       [13, 25,  6, ..., 11, 27,  8],\n",
       "       [14, 26,  5, ...,  8, 24, 11],\n",
       "       ...,\n",
       "       [11, 31,  0, ..., 13, 29, 14],\n",
       "       [ 4, 16, 15, ...,  2, 18,  1],\n",
       "       [ 5, 17, 14, ...,  3, 19,  0]])"
      ]
     },
     "execution_count": 103,
     "metadata": {},
     "output_type": "execute_result"
    }
   ],
   "source": [
    "cand_keystream[0]"
   ]
  },
  {
   "cell_type": "code",
   "execution_count": 118,
   "id": "24c6e8d7-cf35-4815-92df-bad58ea07f8e",
   "metadata": {},
   "outputs": [],
   "source": [
    "cand_keystream_distribution = np.zeros((6,10,32), dtype=float)\n",
    "\n",
    "for i in range(6):\n",
    "    for j in range(10):\n",
    "        for t in range(constant):\n",
    "            determinator_index = cand_keystream[i][j][t]\n",
    "            cand_keystream_distribution[i][j][determinator_index] += 1\n",
    "            # cand_keystream_distribution[i][j][determinator_index] /= constant"
   ]
  },
  {
   "cell_type": "code",
   "execution_count": 119,
   "id": "5c3829c8-afc9-4c6c-8a6d-61efbfb27e42",
   "metadata": {
    "scrolled": true
   },
   "outputs": [
    {
     "data": {
      "text/plain": [
       "array([[ 504052.,  502431.,  502427.,  498250.,  499588.,  471113.,\n",
       "         493152., 1046021.,  507886.,  505472.,  507168.,  523183.,\n",
       "         506829.,  502860.,  503536.,  503810.,  514409.,  512012.,\n",
       "         512999.,  508869.,  511224.,  509449.,  492223.,  508304.,\n",
       "         518874.,  517253.,  517975.,  515835.,  515516.,  517884.,\n",
       "         514545.,  512067.],\n",
       "       [ 502431.,  504052.,  498250.,  502427.,  471113.,  499588.,\n",
       "        1046021.,  493152.,  505472.,  507886.,  523183.,  507168.,\n",
       "         502860.,  506829.,  503810.,  503536.,  512012.,  514409.,\n",
       "         508869.,  512999.,  509449.,  511224.,  508304.,  492223.,\n",
       "         517253.,  518874.,  515835.,  517975.,  517884.,  515516.,\n",
       "         512067.,  514545.],\n",
       "       [ 502427.,  498250.,  504052.,  502431.,  493152., 1046021.,\n",
       "         499588.,  471113.,  507168.,  523183.,  507886.,  505472.,\n",
       "         503536.,  503810.,  506829.,  502860.,  512999.,  508869.,\n",
       "         514409.,  512012.,  492223.,  508304.,  511224.,  509449.,\n",
       "         517975.,  515835.,  518874.,  517253.,  514545.,  512067.,\n",
       "         515516.,  517884.],\n",
       "       [ 498250.,  502427.,  502431.,  504052., 1046021.,  493152.,\n",
       "         471113.,  499588.,  523183.,  507168.,  505472.,  507886.,\n",
       "         503810.,  503536.,  502860.,  506829.,  508869.,  512999.,\n",
       "         512012.,  514409.,  508304.,  492223.,  509449.,  511224.,\n",
       "         515835.,  517975.,  517253.,  518874.,  512067.,  514545.,\n",
       "         517884.,  515516.],\n",
       "       [ 499588.,  471113.,  493152., 1046021.,  504052.,  502431.,\n",
       "         502427.,  498250.,  506829.,  502860.,  503536.,  503810.,\n",
       "         507886.,  505472.,  507168.,  523183.,  511224.,  509449.,\n",
       "         492223.,  508304.,  514409.,  512012.,  512999.,  508869.,\n",
       "         515516.,  517884.,  514545.,  512067.,  518874.,  517253.,\n",
       "         517975.,  515835.],\n",
       "       [ 471113.,  499588., 1046021.,  493152.,  502431.,  504052.,\n",
       "         498250.,  502427.,  502860.,  506829.,  503810.,  503536.,\n",
       "         505472.,  507886.,  523183.,  507168.,  509449.,  511224.,\n",
       "         508304.,  492223.,  512012.,  514409.,  508869.,  512999.,\n",
       "         517884.,  515516.,  512067.,  514545.,  517253.,  518874.,\n",
       "         515835.,  517975.],\n",
       "       [ 493152., 1046021.,  499588.,  471113.,  502427.,  498250.,\n",
       "         504052.,  502431.,  503536.,  503810.,  506829.,  502860.,\n",
       "         507168.,  523183.,  507886.,  505472.,  492223.,  508304.,\n",
       "         511224.,  509449.,  512999.,  508869.,  514409.,  512012.,\n",
       "         514545.,  512067.,  515516.,  517884.,  517975.,  515835.,\n",
       "         518874.,  517253.],\n",
       "       [1046021.,  493152.,  471113.,  499588.,  498250.,  502427.,\n",
       "         502431.,  504052.,  503810.,  503536.,  502860.,  506829.,\n",
       "         523183.,  507168.,  505472.,  507886.,  508304.,  492223.,\n",
       "         509449.,  511224.,  508869.,  512999.,  512012.,  514409.,\n",
       "         512067.,  514545.,  517884.,  515516.,  515835.,  517975.,\n",
       "         517253.,  518874.],\n",
       "       [ 507886.,  505472.,  507168.,  523183.,  506829.,  502860.,\n",
       "         503536.,  503810.,  504052.,  502431.,  502427.,  498250.,\n",
       "         499588.,  471113.,  493152., 1046021.,  518874.,  517253.,\n",
       "         517975.,  515835.,  515516.,  517884.,  514545.,  512067.,\n",
       "         514409.,  512012.,  512999.,  508869.,  511224.,  509449.,\n",
       "         492223.,  508304.],\n",
       "       [ 505472.,  507886.,  523183.,  507168.,  502860.,  506829.,\n",
       "         503810.,  503536.,  502431.,  504052.,  498250.,  502427.,\n",
       "         471113.,  499588., 1046021.,  493152.,  517253.,  518874.,\n",
       "         515835.,  517975.,  517884.,  515516.,  512067.,  514545.,\n",
       "         512012.,  514409.,  508869.,  512999.,  509449.,  511224.,\n",
       "         508304.,  492223.]])"
      ]
     },
     "execution_count": 119,
     "metadata": {},
     "output_type": "execute_result"
    }
   ],
   "source": [
    "cand_keystream_distribution[1]"
   ]
  },
  {
   "cell_type": "code",
   "execution_count": 122,
   "id": "726e3886-7725-44df-be0f-9e3cdd77e9b2",
   "metadata": {},
   "outputs": [],
   "source": [
    "for i in range(6):\n",
    "    for j in range(10):\n",
    "        for t in range(32):\n",
    "            # determinator_index = cand_keystream[i][j][t]\n",
    "            # cand_keystream_distribution[i][j][determinator_index] += 1\n",
    "            cand_keystream_distribution[i][j][t] /= constant"
   ]
  },
  {
   "cell_type": "code",
   "execution_count": 126,
   "id": "d30855fc-216b-4301-9bfc-1d14333360ca",
   "metadata": {
    "scrolled": true
   },
   "outputs": [
    {
     "data": {
      "text/plain": [
       "array([[0.03004384, 0.02994722, 0.02994698, 0.02969801, 0.02977777,\n",
       "        0.02808052, 0.02939415, 0.06234771, 0.03027236, 0.03012848,\n",
       "        0.03022957, 0.03118414, 0.03020936, 0.02997279, 0.03001308,\n",
       "        0.03002942, 0.03066117, 0.03051829, 0.03057712, 0.03033096,\n",
       "        0.03047132, 0.03036553, 0.02933878, 0.03029728, 0.0309273 ,\n",
       "        0.03083068, 0.03087372, 0.03074616, 0.03072715, 0.03086829,\n",
       "        0.03066927, 0.03052157],\n",
       "       [0.02994722, 0.03004384, 0.02969801, 0.02994698, 0.02808052,\n",
       "        0.02977777, 0.06234771, 0.02939415, 0.03012848, 0.03027236,\n",
       "        0.03118414, 0.03022957, 0.02997279, 0.03020936, 0.03002942,\n",
       "        0.03001308, 0.03051829, 0.03066117, 0.03033096, 0.03057712,\n",
       "        0.03036553, 0.03047132, 0.03029728, 0.02933878, 0.03083068,\n",
       "        0.0309273 , 0.03074616, 0.03087372, 0.03086829, 0.03072715,\n",
       "        0.03052157, 0.03066927],\n",
       "       [0.02994698, 0.02969801, 0.03004384, 0.02994722, 0.02939415,\n",
       "        0.06234771, 0.02977777, 0.02808052, 0.03022957, 0.03118414,\n",
       "        0.03027236, 0.03012848, 0.03001308, 0.03002942, 0.03020936,\n",
       "        0.02997279, 0.03057712, 0.03033096, 0.03066117, 0.03051829,\n",
       "        0.02933878, 0.03029728, 0.03047132, 0.03036553, 0.03087372,\n",
       "        0.03074616, 0.0309273 , 0.03083068, 0.03066927, 0.03052157,\n",
       "        0.03072715, 0.03086829],\n",
       "       [0.02969801, 0.02994698, 0.02994722, 0.03004384, 0.06234771,\n",
       "        0.02939415, 0.02808052, 0.02977777, 0.03118414, 0.03022957,\n",
       "        0.03012848, 0.03027236, 0.03002942, 0.03001308, 0.02997279,\n",
       "        0.03020936, 0.03033096, 0.03057712, 0.03051829, 0.03066117,\n",
       "        0.03029728, 0.02933878, 0.03036553, 0.03047132, 0.03074616,\n",
       "        0.03087372, 0.03083068, 0.0309273 , 0.03052157, 0.03066927,\n",
       "        0.03086829, 0.03072715],\n",
       "       [0.02977777, 0.02808052, 0.02939415, 0.06234771, 0.03004384,\n",
       "        0.02994722, 0.02994698, 0.02969801, 0.03020936, 0.02997279,\n",
       "        0.03001308, 0.03002942, 0.03027236, 0.03012848, 0.03022957,\n",
       "        0.03118414, 0.03047132, 0.03036553, 0.02933878, 0.03029728,\n",
       "        0.03066117, 0.03051829, 0.03057712, 0.03033096, 0.03072715,\n",
       "        0.03086829, 0.03066927, 0.03052157, 0.0309273 , 0.03083068,\n",
       "        0.03087372, 0.03074616],\n",
       "       [0.02808052, 0.02977777, 0.06234771, 0.02939415, 0.02994722,\n",
       "        0.03004384, 0.02969801, 0.02994698, 0.02997279, 0.03020936,\n",
       "        0.03002942, 0.03001308, 0.03012848, 0.03027236, 0.03118414,\n",
       "        0.03022957, 0.03036553, 0.03047132, 0.03029728, 0.02933878,\n",
       "        0.03051829, 0.03066117, 0.03033096, 0.03057712, 0.03086829,\n",
       "        0.03072715, 0.03052157, 0.03066927, 0.03083068, 0.0309273 ,\n",
       "        0.03074616, 0.03087372],\n",
       "       [0.02939415, 0.06234771, 0.02977777, 0.02808052, 0.02994698,\n",
       "        0.02969801, 0.03004384, 0.02994722, 0.03001308, 0.03002942,\n",
       "        0.03020936, 0.02997279, 0.03022957, 0.03118414, 0.03027236,\n",
       "        0.03012848, 0.02933878, 0.03029728, 0.03047132, 0.03036553,\n",
       "        0.03057712, 0.03033096, 0.03066117, 0.03051829, 0.03066927,\n",
       "        0.03052157, 0.03072715, 0.03086829, 0.03087372, 0.03074616,\n",
       "        0.0309273 , 0.03083068],\n",
       "       [0.06234771, 0.02939415, 0.02808052, 0.02977777, 0.02969801,\n",
       "        0.02994698, 0.02994722, 0.03004384, 0.03002942, 0.03001308,\n",
       "        0.02997279, 0.03020936, 0.03118414, 0.03022957, 0.03012848,\n",
       "        0.03027236, 0.03029728, 0.02933878, 0.03036553, 0.03047132,\n",
       "        0.03033096, 0.03057712, 0.03051829, 0.03066117, 0.03052157,\n",
       "        0.03066927, 0.03086829, 0.03072715, 0.03074616, 0.03087372,\n",
       "        0.03083068, 0.0309273 ],\n",
       "       [0.03027236, 0.03012848, 0.03022957, 0.03118414, 0.03020936,\n",
       "        0.02997279, 0.03001308, 0.03002942, 0.03004384, 0.02994722,\n",
       "        0.02994698, 0.02969801, 0.02977777, 0.02808052, 0.02939415,\n",
       "        0.06234771, 0.0309273 , 0.03083068, 0.03087372, 0.03074616,\n",
       "        0.03072715, 0.03086829, 0.03066927, 0.03052157, 0.03066117,\n",
       "        0.03051829, 0.03057712, 0.03033096, 0.03047132, 0.03036553,\n",
       "        0.02933878, 0.03029728],\n",
       "       [0.03012848, 0.03027236, 0.03118414, 0.03022957, 0.02997279,\n",
       "        0.03020936, 0.03002942, 0.03001308, 0.02994722, 0.03004384,\n",
       "        0.02969801, 0.02994698, 0.02808052, 0.02977777, 0.06234771,\n",
       "        0.02939415, 0.03083068, 0.0309273 , 0.03074616, 0.03087372,\n",
       "        0.03086829, 0.03072715, 0.03052157, 0.03066927, 0.03051829,\n",
       "        0.03066117, 0.03033096, 0.03057712, 0.03036553, 0.03047132,\n",
       "        0.03029728, 0.02933878]])"
      ]
     },
     "execution_count": 126,
     "metadata": {},
     "output_type": "execute_result"
    }
   ],
   "source": [
    "cand_keystream_distribution[1]"
   ]
  },
  {
   "cell_type": "code",
   "execution_count": 128,
   "id": "1a0d1d97-a6d0-4885-bfd0-e8b4434f0bf8",
   "metadata": {},
   "outputs": [
    {
     "data": {
      "text/plain": [
       "numpy.ndarray"
      ]
     },
     "execution_count": 128,
     "metadata": {},
     "output_type": "execute_result"
    }
   ],
   "source": [
    "type(cand_keystream_distribution)"
   ]
  },
  {
   "cell_type": "code",
   "execution_count": 130,
   "id": "1c6aed4f-b4cf-4c25-af60-09ce1d49c9bb",
   "metadata": {},
   "outputs": [
    {
     "data": {
      "text/plain": [
       "list"
      ]
     },
     "execution_count": 130,
     "metadata": {},
     "output_type": "execute_result"
    }
   ],
   "source": [
    "type(keystream_dist)"
   ]
  },
  {
   "cell_type": "code",
   "execution_count": 132,
   "id": "febd0060-7383-4b3a-9d78-65f42646b472",
   "metadata": {},
   "outputs": [],
   "source": [
    "keystream_dist = np.array(keystream_dist)"
   ]
  },
  {
   "cell_type": "code",
   "execution_count": 134,
   "id": "b439e8af-4b92-498b-95fb-b5f8fe9f4bf7",
   "metadata": {},
   "outputs": [
    {
     "data": {
      "text/plain": [
       "numpy.ndarray"
      ]
     },
     "execution_count": 134,
     "metadata": {},
     "output_type": "execute_result"
    }
   ],
   "source": [
    "type(keystream_dist)"
   ]
  },
  {
   "cell_type": "code",
   "execution_count": 136,
   "id": "2500ff31-ec8e-4001-9be4-688cb87e21fb",
   "metadata": {},
   "outputs": [
    {
     "data": {
      "text/plain": [
       "(6, 32)"
      ]
     },
     "execution_count": 136,
     "metadata": {},
     "output_type": "execute_result"
    }
   ],
   "source": [
    "keystream_dist.shape"
   ]
  },
  {
   "cell_type": "markdown",
   "id": "dcabed8b-864f-4f6d-8674-3c9d78fddb11",
   "metadata": {},
   "source": [
    "## first byte:"
   ]
  },
  {
   "cell_type": "code",
   "execution_count": 164,
   "id": "ba9933bd-a236-458c-b388-eae1a706ceaa",
   "metadata": {
    "scrolled": true
   },
   "outputs": [],
   "source": [
    "diffenece = []\n",
    "for j in range(10):\n",
    "    temp = np.abs(keystream_dist[0] - cand_keystream_distribution[0][j])\n",
    "    # print(temp)\n",
    "    net_sum = np.sum(temp)\n",
    "    diffenece.append(net_sum)"
   ]
  },
  {
   "cell_type": "code",
   "execution_count": 166,
   "id": "1ca614fd-8702-4171-8c74-9eca1aeeab22",
   "metadata": {},
   "outputs": [
    {
     "data": {
      "text/plain": [
       "array([0.02069998, 0.02200985, 0.02014494, 0.02076662, 0.02168059,\n",
       "       0.0201267 , 0.02199793, 0.02171636, 0.02148247, 0.02205849])"
      ]
     },
     "execution_count": 166,
     "metadata": {},
     "output_type": "execute_result"
    }
   ],
   "source": [
    "diffenece = np.array(diffenece)\n",
    "diffenece"
   ]
  },
  {
   "cell_type": "code",
   "execution_count": 168,
   "id": "53b32ae0-7523-4179-a5c5-5870d278279b",
   "metadata": {},
   "outputs": [
    {
     "data": {
      "text/plain": [
       "5"
      ]
     },
     "execution_count": 168,
     "metadata": {},
     "output_type": "execute_result"
    }
   ],
   "source": [
    "diffenece.argmin()"
   ]
  },
  {
   "cell_type": "markdown",
   "id": "ac4d60d6-b3af-4322-9b0b-3d6fb59be91e",
   "metadata": {},
   "source": [
    "## second byte:"
   ]
  },
  {
   "cell_type": "code",
   "execution_count": 176,
   "id": "eca16535-7e64-4ecd-806b-c6fdb35157aa",
   "metadata": {},
   "outputs": [],
   "source": [
    "diffenece = []\n",
    "for j in range(10):\n",
    "    temp = np.abs(keystream_dist[1] - cand_keystream_distribution[1][j])\n",
    "    # print(temp)\n",
    "    net_sum = np.sum(temp)\n",
    "    diffenece.append(net_sum)"
   ]
  },
  {
   "cell_type": "code",
   "execution_count": 178,
   "id": "be218b08-884f-4718-b164-3947ee350334",
   "metadata": {},
   "outputs": [
    {
     "data": {
      "text/plain": [
       "array([0.08217621, 0.08252919, 0.08159947, 0.08227956, 0.07972014,\n",
       "       0.08214355, 0.08195484, 0.01072872, 0.08464313, 0.0848037 ])"
      ]
     },
     "execution_count": 178,
     "metadata": {},
     "output_type": "execute_result"
    }
   ],
   "source": [
    "diffenece = np.array(diffenece)\n",
    "diffenece"
   ]
  },
  {
   "cell_type": "code",
   "execution_count": 180,
   "id": "393aca18-ebf6-46f8-a7bd-03b2a08ae602",
   "metadata": {},
   "outputs": [
    {
     "data": {
      "text/plain": [
       "7"
      ]
     },
     "execution_count": 180,
     "metadata": {},
     "output_type": "execute_result"
    }
   ],
   "source": [
    "diffenece.argmin()"
   ]
  },
  {
   "cell_type": "markdown",
   "id": "a417028d-a3fe-4998-9477-98192e02cde1",
   "metadata": {},
   "source": [
    "## third byte:"
   ]
  },
  {
   "cell_type": "code",
   "execution_count": 183,
   "id": "58497023-b2d0-4f1c-8ec5-d4599854f573",
   "metadata": {},
   "outputs": [],
   "source": [
    "diffenece = []\n",
    "for j in range(10):\n",
    "    temp = np.abs(keystream_dist[2] - cand_keystream_distribution[2][j])\n",
    "    # print(temp)\n",
    "    net_sum = np.sum(temp)\n",
    "    diffenece.append(net_sum)"
   ]
  },
  {
   "cell_type": "code",
   "execution_count": 185,
   "id": "205861c4-ee41-4a3e-b1b1-32ba235cf1a9",
   "metadata": {},
   "outputs": [
    {
     "data": {
      "text/plain": [
       "array([0.00797725, 0.00821054, 0.00867736, 0.00826108, 0.00774872,\n",
       "       0.00711048, 0.00769377, 0.00840175, 0.00743747, 0.00775826])"
      ]
     },
     "execution_count": 185,
     "metadata": {},
     "output_type": "execute_result"
    }
   ],
   "source": [
    "diffenece = np.array(diffenece)\n",
    "diffenece"
   ]
  },
  {
   "cell_type": "code",
   "execution_count": 187,
   "id": "9bed7eb0-24e7-4334-a337-fdb3d2afd68a",
   "metadata": {},
   "outputs": [
    {
     "data": {
      "text/plain": [
       "5"
      ]
     },
     "execution_count": 187,
     "metadata": {},
     "output_type": "execute_result"
    }
   ],
   "source": [
    "diffenece.argmin()"
   ]
  },
  {
   "cell_type": "markdown",
   "id": "df8975dd-37ff-4938-b5cb-ded6887cf19f",
   "metadata": {},
   "source": [
    "## fourth byte:"
   ]
  },
  {
   "cell_type": "code",
   "execution_count": 191,
   "id": "0dbd07a5-d6b0-4d1c-86b4-b6b167ecd26a",
   "metadata": {},
   "outputs": [],
   "source": [
    "diffenece = []\n",
    "for j in range(10):\n",
    "    temp = np.abs(keystream_dist[3] - cand_keystream_distribution[3][j])\n",
    "    # print(temp)\n",
    "    net_sum = np.sum(temp)\n",
    "    diffenece.append(net_sum)"
   ]
  },
  {
   "cell_type": "code",
   "execution_count": 193,
   "id": "368b18bd-d822-4320-9567-d976df3902ca",
   "metadata": {},
   "outputs": [
    {
     "data": {
      "text/plain": [
       "array([0.01025081, 0.00584054, 0.01026571, 0.00875723, 0.00982773,\n",
       "       0.00727355, 0.01209271, 0.00864363, 0.01074111, 0.01104736])"
      ]
     },
     "execution_count": 193,
     "metadata": {},
     "output_type": "execute_result"
    }
   ],
   "source": [
    "diffenece = np.array(diffenece)\n",
    "diffenece"
   ]
  },
  {
   "cell_type": "code",
   "execution_count": 195,
   "id": "bb58a1de-fa15-4a7b-88db-329eeb78f73c",
   "metadata": {},
   "outputs": [
    {
     "data": {
      "text/plain": [
       "1"
      ]
     },
     "execution_count": 195,
     "metadata": {},
     "output_type": "execute_result"
    }
   ],
   "source": [
    "diffenece.argmin()"
   ]
  },
  {
   "cell_type": "markdown",
   "id": "b75e257a-e50a-4d4f-8148-ce7bbe4db9f4",
   "metadata": {},
   "source": [
    "## fifth byte:"
   ]
  },
  {
   "cell_type": "code",
   "execution_count": 200,
   "id": "73f0694b-0741-409b-9152-262f9103c694",
   "metadata": {},
   "outputs": [],
   "source": [
    "diffenece = []\n",
    "for j in range(10):\n",
    "    temp = np.abs(keystream_dist[4] - cand_keystream_distribution[4][j])\n",
    "    # print(temp)\n",
    "    net_sum = np.sum(temp)\n",
    "    diffenece.append(net_sum)"
   ]
  },
  {
   "cell_type": "code",
   "execution_count": 202,
   "id": "57875e5b-f601-42af-b0a1-44f11d459073",
   "metadata": {},
   "outputs": [
    {
     "data": {
      "text/plain": [
       "array([0.00744748, 0.00877309, 0.01127529, 0.0109278 , 0.00873148,\n",
       "       0.00823152, 0.01105392, 0.01144266, 0.01071155, 0.01121974])"
      ]
     },
     "execution_count": 202,
     "metadata": {},
     "output_type": "execute_result"
    }
   ],
   "source": [
    "diffenece = np.array(diffenece)\n",
    "diffenece"
   ]
  },
  {
   "cell_type": "code",
   "execution_count": 204,
   "id": "1701e73f-62f2-425d-aa31-78b1a7418b79",
   "metadata": {},
   "outputs": [
    {
     "data": {
      "text/plain": [
       "0"
      ]
     },
     "execution_count": 204,
     "metadata": {},
     "output_type": "execute_result"
    }
   ],
   "source": [
    "diffenece.argmin()"
   ]
  },
  {
   "cell_type": "markdown",
   "id": "c790d901-c0d4-4c44-bd5d-1de3ec2b0105",
   "metadata": {},
   "source": [
    "## sixth byte:"
   ]
  },
  {
   "cell_type": "code",
   "execution_count": 207,
   "id": "494a8820-1d90-4fe3-8155-e06936a51307",
   "metadata": {},
   "outputs": [],
   "source": [
    "diffenece = []\n",
    "for j in range(10):\n",
    "    temp = np.abs(keystream_dist[5] - cand_keystream_distribution[5][j])\n",
    "    # print(temp)\n",
    "    net_sum = np.sum(temp)\n",
    "    diffenece.append(net_sum)"
   ]
  },
  {
   "cell_type": "code",
   "execution_count": 209,
   "id": "12677b73-0db8-4df1-a339-50f858580978",
   "metadata": {},
   "outputs": [
    {
     "data": {
      "text/plain": [
       "array([0.00907528, 0.00891411, 0.00781953, 0.00669527, 0.00684488,\n",
       "       0.00626552, 0.00905764, 0.00893641, 0.00908744, 0.008883  ])"
      ]
     },
     "execution_count": 209,
     "metadata": {},
     "output_type": "execute_result"
    }
   ],
   "source": [
    "diffenece = np.array(diffenece)\n",
    "diffenece"
   ]
  },
  {
   "cell_type": "code",
   "execution_count": 211,
   "id": "51c06f41-c8c4-4321-b8d0-178723e6ff5e",
   "metadata": {},
   "outputs": [
    {
     "data": {
      "text/plain": [
       "5"
      ]
     },
     "execution_count": 211,
     "metadata": {},
     "output_type": "execute_result"
    }
   ],
   "source": [
    "diffenece.argmin()"
   ]
  },
  {
   "cell_type": "code",
   "execution_count": null,
   "id": "e7511ab5-6563-45b7-9554-133a3cfb504b",
   "metadata": {},
   "outputs": [],
   "source": []
  }
 ],
 "metadata": {
  "kernelspec": {
   "display_name": "Python 3 (ipykernel)",
   "language": "python",
   "name": "python3"
  },
  "language_info": {
   "codemirror_mode": {
    "name": "ipython",
    "version": 3
   },
   "file_extension": ".py",
   "mimetype": "text/x-python",
   "name": "python",
   "nbconvert_exporter": "python",
   "pygments_lexer": "ipython3",
   "version": "3.12.7"
  },
  "panel-cell-order": [
   "956e5929-746c-4ae1-a82d-5a413b9b0840",
   "b80fbbab-ff54-4908-b260-ad3d393e0b03",
   "cb015873-76b9-4949-a874-e529ade034ed",
   "76e65410-d252-45e4-b7a5-1650a573dac2",
   "f5821b33-d02c-4222-a291-03b2106bfe2d"
  ]
 },
 "nbformat": 4,
 "nbformat_minor": 5
}
